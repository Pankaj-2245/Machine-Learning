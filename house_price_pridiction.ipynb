{
 "cells": [
  {
   "cell_type": "code",
   "execution_count": 9,
   "id": "a2ebf415-49b5-4086-98d4-6c3477857e08",
   "metadata": {},
   "outputs": [],
   "source": [
    "import pandas as pd\n",
    "import numpy as np\n",
    "import matplotlib.pyplot as plt\n",
    "import seaborn as sns\n",
    "import scipy.stats as stats\n",
    "import plotly.express as px\n",
    "import plotly.graph_objects as go\n",
    "from plotly.subplots import make_subplots\n",
    "from sklearn.model_selection import train_test_split\n",
    "from sklearn.linear_model import LinearRegression\n",
    "from sklearn.metrics import mean_squared_error, r2_score, mean_absolute_error, root_mean_squared_error\n",
    "from sklearn.preprocessing import StandardScaler, OneHotEncoder, StandardScaler\n",
    "from sklearn.model_selection import learning_curve\n"
   ]
  },
  {
   "cell_type": "code",
   "execution_count": 6,
   "id": "9b243ca4-6365-4ef7-925e-26b4dc6db698",
   "metadata": {},
   "outputs": [
    {
     "name": "stdout",
     "output_type": "stream",
     "text": [
      "\u001b[34mData_Sets\u001b[m\u001b[m                    requirements.txt\n",
      "\u001b[34menv\u001b[m\u001b[m                          Untitled.ipynb\n",
      "house_price_pridiction.ipynb\n"
     ]
    }
   ],
   "source": [
    "\n",
    "!ls"
   ]
  },
  {
   "cell_type": "markdown",
   "id": "11265a32-c520-4ebb-b3bb-9e404de7f583",
   "metadata": {},
   "source": [
    "# Loading the DataSets"
   ]
  },
  {
   "cell_type": "code",
   "execution_count": 11,
   "id": "57d54166-eec7-4c31-8e3e-b245e1b9b40e",
   "metadata": {},
   "outputs": [],
   "source": [
    "df = pd.read_csv('Data_Sets/Housing.csv')"
   ]
  },
  {
   "cell_type": "markdown",
   "id": "1368b31e-ea28-4e86-932b-a6fba69a7363",
   "metadata": {},
   "source": [
    "# Initial Data exploration"
   ]
  },
  {
   "cell_type": "code",
   "execution_count": 12,
   "id": "7d2783a9-ff6c-48d3-b2e0-07fc36d560d1",
   "metadata": {},
   "outputs": [
    {
     "data": {
      "text/html": [
       "<div>\n",
       "<style scoped>\n",
       "    .dataframe tbody tr th:only-of-type {\n",
       "        vertical-align: middle;\n",
       "    }\n",
       "\n",
       "    .dataframe tbody tr th {\n",
       "        vertical-align: top;\n",
       "    }\n",
       "\n",
       "    .dataframe thead th {\n",
       "        text-align: right;\n",
       "    }\n",
       "</style>\n",
       "<table border=\"1\" class=\"dataframe\">\n",
       "  <thead>\n",
       "    <tr style=\"text-align: right;\">\n",
       "      <th></th>\n",
       "      <th>price</th>\n",
       "      <th>area</th>\n",
       "      <th>bedrooms</th>\n",
       "      <th>bathrooms</th>\n",
       "      <th>stories</th>\n",
       "      <th>mainroad</th>\n",
       "      <th>guestroom</th>\n",
       "      <th>basement</th>\n",
       "      <th>hotwaterheating</th>\n",
       "      <th>airconditioning</th>\n",
       "      <th>parking</th>\n",
       "      <th>prefarea</th>\n",
       "      <th>furnishingstatus</th>\n",
       "    </tr>\n",
       "  </thead>\n",
       "  <tbody>\n",
       "    <tr>\n",
       "      <th>0</th>\n",
       "      <td>13300000</td>\n",
       "      <td>7420</td>\n",
       "      <td>4</td>\n",
       "      <td>2</td>\n",
       "      <td>3</td>\n",
       "      <td>yes</td>\n",
       "      <td>no</td>\n",
       "      <td>no</td>\n",
       "      <td>no</td>\n",
       "      <td>yes</td>\n",
       "      <td>2</td>\n",
       "      <td>yes</td>\n",
       "      <td>furnished</td>\n",
       "    </tr>\n",
       "    <tr>\n",
       "      <th>1</th>\n",
       "      <td>12250000</td>\n",
       "      <td>8960</td>\n",
       "      <td>4</td>\n",
       "      <td>4</td>\n",
       "      <td>4</td>\n",
       "      <td>yes</td>\n",
       "      <td>no</td>\n",
       "      <td>no</td>\n",
       "      <td>no</td>\n",
       "      <td>yes</td>\n",
       "      <td>3</td>\n",
       "      <td>no</td>\n",
       "      <td>furnished</td>\n",
       "    </tr>\n",
       "    <tr>\n",
       "      <th>2</th>\n",
       "      <td>12250000</td>\n",
       "      <td>9960</td>\n",
       "      <td>3</td>\n",
       "      <td>2</td>\n",
       "      <td>2</td>\n",
       "      <td>yes</td>\n",
       "      <td>no</td>\n",
       "      <td>yes</td>\n",
       "      <td>no</td>\n",
       "      <td>no</td>\n",
       "      <td>2</td>\n",
       "      <td>yes</td>\n",
       "      <td>semi-furnished</td>\n",
       "    </tr>\n",
       "    <tr>\n",
       "      <th>3</th>\n",
       "      <td>12215000</td>\n",
       "      <td>7500</td>\n",
       "      <td>4</td>\n",
       "      <td>2</td>\n",
       "      <td>2</td>\n",
       "      <td>yes</td>\n",
       "      <td>no</td>\n",
       "      <td>yes</td>\n",
       "      <td>no</td>\n",
       "      <td>yes</td>\n",
       "      <td>3</td>\n",
       "      <td>yes</td>\n",
       "      <td>furnished</td>\n",
       "    </tr>\n",
       "    <tr>\n",
       "      <th>4</th>\n",
       "      <td>11410000</td>\n",
       "      <td>7420</td>\n",
       "      <td>4</td>\n",
       "      <td>1</td>\n",
       "      <td>2</td>\n",
       "      <td>yes</td>\n",
       "      <td>yes</td>\n",
       "      <td>yes</td>\n",
       "      <td>no</td>\n",
       "      <td>yes</td>\n",
       "      <td>2</td>\n",
       "      <td>no</td>\n",
       "      <td>furnished</td>\n",
       "    </tr>\n",
       "  </tbody>\n",
       "</table>\n",
       "</div>"
      ],
      "text/plain": [
       "      price  area  bedrooms  bathrooms  stories mainroad guestroom basement  \\\n",
       "0  13300000  7420         4          2        3      yes        no       no   \n",
       "1  12250000  8960         4          4        4      yes        no       no   \n",
       "2  12250000  9960         3          2        2      yes        no      yes   \n",
       "3  12215000  7500         4          2        2      yes        no      yes   \n",
       "4  11410000  7420         4          1        2      yes       yes      yes   \n",
       "\n",
       "  hotwaterheating airconditioning  parking prefarea furnishingstatus  \n",
       "0              no             yes        2      yes        furnished  \n",
       "1              no             yes        3       no        furnished  \n",
       "2              no              no        2      yes   semi-furnished  \n",
       "3              no             yes        3      yes        furnished  \n",
       "4              no             yes        2       no        furnished  "
      ]
     },
     "execution_count": 12,
     "metadata": {},
     "output_type": "execute_result"
    }
   ],
   "source": [
    "df.head()"
   ]
  },
  {
   "cell_type": "code",
   "execution_count": 13,
   "id": "f4942d79-d3c1-4a2c-8e6a-f47e4826675e",
   "metadata": {},
   "outputs": [
    {
     "name": "stdout",
     "output_type": "stream",
     "text": [
      "<class 'pandas.core.frame.DataFrame'>\n",
      "RangeIndex: 545 entries, 0 to 544\n",
      "Data columns (total 13 columns):\n",
      " #   Column            Non-Null Count  Dtype \n",
      "---  ------            --------------  ----- \n",
      " 0   price             545 non-null    int64 \n",
      " 1   area              545 non-null    int64 \n",
      " 2   bedrooms          545 non-null    int64 \n",
      " 3   bathrooms         545 non-null    int64 \n",
      " 4   stories           545 non-null    int64 \n",
      " 5   mainroad          545 non-null    object\n",
      " 6   guestroom         545 non-null    object\n",
      " 7   basement          545 non-null    object\n",
      " 8   hotwaterheating   545 non-null    object\n",
      " 9   airconditioning   545 non-null    object\n",
      " 10  parking           545 non-null    int64 \n",
      " 11  prefarea          545 non-null    object\n",
      " 12  furnishingstatus  545 non-null    object\n",
      "dtypes: int64(6), object(7)\n",
      "memory usage: 55.5+ KB\n"
     ]
    }
   ],
   "source": [
    "df.info()"
   ]
  },
  {
   "cell_type": "code",
   "execution_count": 14,
   "id": "8a32c910-307d-4c2d-bbdc-ac8d1e16e23f",
   "metadata": {},
   "outputs": [
    {
     "data": {
      "text/html": [
       "<div>\n",
       "<style scoped>\n",
       "    .dataframe tbody tr th:only-of-type {\n",
       "        vertical-align: middle;\n",
       "    }\n",
       "\n",
       "    .dataframe tbody tr th {\n",
       "        vertical-align: top;\n",
       "    }\n",
       "\n",
       "    .dataframe thead th {\n",
       "        text-align: right;\n",
       "    }\n",
       "</style>\n",
       "<table border=\"1\" class=\"dataframe\">\n",
       "  <thead>\n",
       "    <tr style=\"text-align: right;\">\n",
       "      <th></th>\n",
       "      <th>price</th>\n",
       "      <th>area</th>\n",
       "      <th>bedrooms</th>\n",
       "      <th>bathrooms</th>\n",
       "      <th>stories</th>\n",
       "      <th>parking</th>\n",
       "    </tr>\n",
       "  </thead>\n",
       "  <tbody>\n",
       "    <tr>\n",
       "      <th>count</th>\n",
       "      <td>5.450000e+02</td>\n",
       "      <td>545.000000</td>\n",
       "      <td>545.000000</td>\n",
       "      <td>545.000000</td>\n",
       "      <td>545.000000</td>\n",
       "      <td>545.000000</td>\n",
       "    </tr>\n",
       "    <tr>\n",
       "      <th>mean</th>\n",
       "      <td>4.766729e+06</td>\n",
       "      <td>5150.541284</td>\n",
       "      <td>2.965138</td>\n",
       "      <td>1.286239</td>\n",
       "      <td>1.805505</td>\n",
       "      <td>0.693578</td>\n",
       "    </tr>\n",
       "    <tr>\n",
       "      <th>std</th>\n",
       "      <td>1.870440e+06</td>\n",
       "      <td>2170.141023</td>\n",
       "      <td>0.738064</td>\n",
       "      <td>0.502470</td>\n",
       "      <td>0.867492</td>\n",
       "      <td>0.861586</td>\n",
       "    </tr>\n",
       "    <tr>\n",
       "      <th>min</th>\n",
       "      <td>1.750000e+06</td>\n",
       "      <td>1650.000000</td>\n",
       "      <td>1.000000</td>\n",
       "      <td>1.000000</td>\n",
       "      <td>1.000000</td>\n",
       "      <td>0.000000</td>\n",
       "    </tr>\n",
       "    <tr>\n",
       "      <th>25%</th>\n",
       "      <td>3.430000e+06</td>\n",
       "      <td>3600.000000</td>\n",
       "      <td>2.000000</td>\n",
       "      <td>1.000000</td>\n",
       "      <td>1.000000</td>\n",
       "      <td>0.000000</td>\n",
       "    </tr>\n",
       "    <tr>\n",
       "      <th>50%</th>\n",
       "      <td>4.340000e+06</td>\n",
       "      <td>4600.000000</td>\n",
       "      <td>3.000000</td>\n",
       "      <td>1.000000</td>\n",
       "      <td>2.000000</td>\n",
       "      <td>0.000000</td>\n",
       "    </tr>\n",
       "    <tr>\n",
       "      <th>75%</th>\n",
       "      <td>5.740000e+06</td>\n",
       "      <td>6360.000000</td>\n",
       "      <td>3.000000</td>\n",
       "      <td>2.000000</td>\n",
       "      <td>2.000000</td>\n",
       "      <td>1.000000</td>\n",
       "    </tr>\n",
       "    <tr>\n",
       "      <th>max</th>\n",
       "      <td>1.330000e+07</td>\n",
       "      <td>16200.000000</td>\n",
       "      <td>6.000000</td>\n",
       "      <td>4.000000</td>\n",
       "      <td>4.000000</td>\n",
       "      <td>3.000000</td>\n",
       "    </tr>\n",
       "  </tbody>\n",
       "</table>\n",
       "</div>"
      ],
      "text/plain": [
       "              price          area    bedrooms   bathrooms     stories  \\\n",
       "count  5.450000e+02    545.000000  545.000000  545.000000  545.000000   \n",
       "mean   4.766729e+06   5150.541284    2.965138    1.286239    1.805505   \n",
       "std    1.870440e+06   2170.141023    0.738064    0.502470    0.867492   \n",
       "min    1.750000e+06   1650.000000    1.000000    1.000000    1.000000   \n",
       "25%    3.430000e+06   3600.000000    2.000000    1.000000    1.000000   \n",
       "50%    4.340000e+06   4600.000000    3.000000    1.000000    2.000000   \n",
       "75%    5.740000e+06   6360.000000    3.000000    2.000000    2.000000   \n",
       "max    1.330000e+07  16200.000000    6.000000    4.000000    4.000000   \n",
       "\n",
       "          parking  \n",
       "count  545.000000  \n",
       "mean     0.693578  \n",
       "std      0.861586  \n",
       "min      0.000000  \n",
       "25%      0.000000  \n",
       "50%      0.000000  \n",
       "75%      1.000000  \n",
       "max      3.000000  "
      ]
     },
     "execution_count": 14,
     "metadata": {},
     "output_type": "execute_result"
    }
   ],
   "source": [
    "df.describe()"
   ]
  },
  {
   "cell_type": "code",
   "execution_count": 16,
   "id": "0cbccce2-3dda-4547-bc7f-70da1cfc3042",
   "metadata": {},
   "outputs": [
    {
     "data": {
      "text/html": [
       "<div>\n",
       "<style scoped>\n",
       "    .dataframe tbody tr th:only-of-type {\n",
       "        vertical-align: middle;\n",
       "    }\n",
       "\n",
       "    .dataframe tbody tr th {\n",
       "        vertical-align: top;\n",
       "    }\n",
       "\n",
       "    .dataframe thead th {\n",
       "        text-align: right;\n",
       "    }\n",
       "</style>\n",
       "<table border=\"1\" class=\"dataframe\">\n",
       "  <thead>\n",
       "    <tr style=\"text-align: right;\">\n",
       "      <th></th>\n",
       "      <th>price</th>\n",
       "      <th>area</th>\n",
       "      <th>bedrooms</th>\n",
       "      <th>bathrooms</th>\n",
       "      <th>stories</th>\n",
       "      <th>mainroad</th>\n",
       "      <th>guestroom</th>\n",
       "      <th>basement</th>\n",
       "      <th>hotwaterheating</th>\n",
       "      <th>airconditioning</th>\n",
       "      <th>parking</th>\n",
       "      <th>prefarea</th>\n",
       "      <th>furnishingstatus</th>\n",
       "    </tr>\n",
       "  </thead>\n",
       "  <tbody>\n",
       "    <tr>\n",
       "      <th>count</th>\n",
       "      <td>5.450000e+02</td>\n",
       "      <td>545.000000</td>\n",
       "      <td>545.000000</td>\n",
       "      <td>545.000000</td>\n",
       "      <td>545.000000</td>\n",
       "      <td>545</td>\n",
       "      <td>545</td>\n",
       "      <td>545</td>\n",
       "      <td>545</td>\n",
       "      <td>545</td>\n",
       "      <td>545.000000</td>\n",
       "      <td>545</td>\n",
       "      <td>545</td>\n",
       "    </tr>\n",
       "    <tr>\n",
       "      <th>unique</th>\n",
       "      <td>NaN</td>\n",
       "      <td>NaN</td>\n",
       "      <td>NaN</td>\n",
       "      <td>NaN</td>\n",
       "      <td>NaN</td>\n",
       "      <td>2</td>\n",
       "      <td>2</td>\n",
       "      <td>2</td>\n",
       "      <td>2</td>\n",
       "      <td>2</td>\n",
       "      <td>NaN</td>\n",
       "      <td>2</td>\n",
       "      <td>3</td>\n",
       "    </tr>\n",
       "    <tr>\n",
       "      <th>top</th>\n",
       "      <td>NaN</td>\n",
       "      <td>NaN</td>\n",
       "      <td>NaN</td>\n",
       "      <td>NaN</td>\n",
       "      <td>NaN</td>\n",
       "      <td>yes</td>\n",
       "      <td>no</td>\n",
       "      <td>no</td>\n",
       "      <td>no</td>\n",
       "      <td>no</td>\n",
       "      <td>NaN</td>\n",
       "      <td>no</td>\n",
       "      <td>semi-furnished</td>\n",
       "    </tr>\n",
       "    <tr>\n",
       "      <th>freq</th>\n",
       "      <td>NaN</td>\n",
       "      <td>NaN</td>\n",
       "      <td>NaN</td>\n",
       "      <td>NaN</td>\n",
       "      <td>NaN</td>\n",
       "      <td>468</td>\n",
       "      <td>448</td>\n",
       "      <td>354</td>\n",
       "      <td>520</td>\n",
       "      <td>373</td>\n",
       "      <td>NaN</td>\n",
       "      <td>417</td>\n",
       "      <td>227</td>\n",
       "    </tr>\n",
       "    <tr>\n",
       "      <th>mean</th>\n",
       "      <td>4.766729e+06</td>\n",
       "      <td>5150.541284</td>\n",
       "      <td>2.965138</td>\n",
       "      <td>1.286239</td>\n",
       "      <td>1.805505</td>\n",
       "      <td>NaN</td>\n",
       "      <td>NaN</td>\n",
       "      <td>NaN</td>\n",
       "      <td>NaN</td>\n",
       "      <td>NaN</td>\n",
       "      <td>0.693578</td>\n",
       "      <td>NaN</td>\n",
       "      <td>NaN</td>\n",
       "    </tr>\n",
       "    <tr>\n",
       "      <th>std</th>\n",
       "      <td>1.870440e+06</td>\n",
       "      <td>2170.141023</td>\n",
       "      <td>0.738064</td>\n",
       "      <td>0.502470</td>\n",
       "      <td>0.867492</td>\n",
       "      <td>NaN</td>\n",
       "      <td>NaN</td>\n",
       "      <td>NaN</td>\n",
       "      <td>NaN</td>\n",
       "      <td>NaN</td>\n",
       "      <td>0.861586</td>\n",
       "      <td>NaN</td>\n",
       "      <td>NaN</td>\n",
       "    </tr>\n",
       "    <tr>\n",
       "      <th>min</th>\n",
       "      <td>1.750000e+06</td>\n",
       "      <td>1650.000000</td>\n",
       "      <td>1.000000</td>\n",
       "      <td>1.000000</td>\n",
       "      <td>1.000000</td>\n",
       "      <td>NaN</td>\n",
       "      <td>NaN</td>\n",
       "      <td>NaN</td>\n",
       "      <td>NaN</td>\n",
       "      <td>NaN</td>\n",
       "      <td>0.000000</td>\n",
       "      <td>NaN</td>\n",
       "      <td>NaN</td>\n",
       "    </tr>\n",
       "    <tr>\n",
       "      <th>25%</th>\n",
       "      <td>3.430000e+06</td>\n",
       "      <td>3600.000000</td>\n",
       "      <td>2.000000</td>\n",
       "      <td>1.000000</td>\n",
       "      <td>1.000000</td>\n",
       "      <td>NaN</td>\n",
       "      <td>NaN</td>\n",
       "      <td>NaN</td>\n",
       "      <td>NaN</td>\n",
       "      <td>NaN</td>\n",
       "      <td>0.000000</td>\n",
       "      <td>NaN</td>\n",
       "      <td>NaN</td>\n",
       "    </tr>\n",
       "    <tr>\n",
       "      <th>50%</th>\n",
       "      <td>4.340000e+06</td>\n",
       "      <td>4600.000000</td>\n",
       "      <td>3.000000</td>\n",
       "      <td>1.000000</td>\n",
       "      <td>2.000000</td>\n",
       "      <td>NaN</td>\n",
       "      <td>NaN</td>\n",
       "      <td>NaN</td>\n",
       "      <td>NaN</td>\n",
       "      <td>NaN</td>\n",
       "      <td>0.000000</td>\n",
       "      <td>NaN</td>\n",
       "      <td>NaN</td>\n",
       "    </tr>\n",
       "    <tr>\n",
       "      <th>75%</th>\n",
       "      <td>5.740000e+06</td>\n",
       "      <td>6360.000000</td>\n",
       "      <td>3.000000</td>\n",
       "      <td>2.000000</td>\n",
       "      <td>2.000000</td>\n",
       "      <td>NaN</td>\n",
       "      <td>NaN</td>\n",
       "      <td>NaN</td>\n",
       "      <td>NaN</td>\n",
       "      <td>NaN</td>\n",
       "      <td>1.000000</td>\n",
       "      <td>NaN</td>\n",
       "      <td>NaN</td>\n",
       "    </tr>\n",
       "    <tr>\n",
       "      <th>max</th>\n",
       "      <td>1.330000e+07</td>\n",
       "      <td>16200.000000</td>\n",
       "      <td>6.000000</td>\n",
       "      <td>4.000000</td>\n",
       "      <td>4.000000</td>\n",
       "      <td>NaN</td>\n",
       "      <td>NaN</td>\n",
       "      <td>NaN</td>\n",
       "      <td>NaN</td>\n",
       "      <td>NaN</td>\n",
       "      <td>3.000000</td>\n",
       "      <td>NaN</td>\n",
       "      <td>NaN</td>\n",
       "    </tr>\n",
       "  </tbody>\n",
       "</table>\n",
       "</div>"
      ],
      "text/plain": [
       "               price          area    bedrooms   bathrooms     stories  \\\n",
       "count   5.450000e+02    545.000000  545.000000  545.000000  545.000000   \n",
       "unique           NaN           NaN         NaN         NaN         NaN   \n",
       "top              NaN           NaN         NaN         NaN         NaN   \n",
       "freq             NaN           NaN         NaN         NaN         NaN   \n",
       "mean    4.766729e+06   5150.541284    2.965138    1.286239    1.805505   \n",
       "std     1.870440e+06   2170.141023    0.738064    0.502470    0.867492   \n",
       "min     1.750000e+06   1650.000000    1.000000    1.000000    1.000000   \n",
       "25%     3.430000e+06   3600.000000    2.000000    1.000000    1.000000   \n",
       "50%     4.340000e+06   4600.000000    3.000000    1.000000    2.000000   \n",
       "75%     5.740000e+06   6360.000000    3.000000    2.000000    2.000000   \n",
       "max     1.330000e+07  16200.000000    6.000000    4.000000    4.000000   \n",
       "\n",
       "       mainroad guestroom basement hotwaterheating airconditioning  \\\n",
       "count       545       545      545             545             545   \n",
       "unique        2         2        2               2               2   \n",
       "top         yes        no       no              no              no   \n",
       "freq        468       448      354             520             373   \n",
       "mean        NaN       NaN      NaN             NaN             NaN   \n",
       "std         NaN       NaN      NaN             NaN             NaN   \n",
       "min         NaN       NaN      NaN             NaN             NaN   \n",
       "25%         NaN       NaN      NaN             NaN             NaN   \n",
       "50%         NaN       NaN      NaN             NaN             NaN   \n",
       "75%         NaN       NaN      NaN             NaN             NaN   \n",
       "max         NaN       NaN      NaN             NaN             NaN   \n",
       "\n",
       "           parking prefarea furnishingstatus  \n",
       "count   545.000000      545              545  \n",
       "unique         NaN        2                3  \n",
       "top            NaN       no   semi-furnished  \n",
       "freq           NaN      417              227  \n",
       "mean      0.693578      NaN              NaN  \n",
       "std       0.861586      NaN              NaN  \n",
       "min       0.000000      NaN              NaN  \n",
       "25%       0.000000      NaN              NaN  \n",
       "50%       0.000000      NaN              NaN  \n",
       "75%       1.000000      NaN              NaN  \n",
       "max       3.000000      NaN              NaN  "
      ]
     },
     "execution_count": 16,
     "metadata": {},
     "output_type": "execute_result"
    }
   ],
   "source": [
    "df.describe(include ='all')"
   ]
  },
  {
   "cell_type": "code",
   "execution_count": 17,
   "id": "37a573ee-fd5b-42b4-8916-f7ace01531ef",
   "metadata": {},
   "outputs": [
    {
     "ename": "TypeError",
     "evalue": "'tuple' object is not callable",
     "output_type": "error",
     "traceback": [
      "\u001b[0;31m---------------------------------------------------------------------------\u001b[0m",
      "\u001b[0;31mTypeError\u001b[0m                                 Traceback (most recent call last)",
      "Cell \u001b[0;32mIn[17], line 1\u001b[0m\n\u001b[0;32m----> 1\u001b[0m \u001b[43mdf\u001b[49m\u001b[38;5;241;43m.\u001b[39;49m\u001b[43mshape\u001b[49m\u001b[43m(\u001b[49m\u001b[43m)\u001b[49m\n",
      "\u001b[0;31mTypeError\u001b[0m: 'tuple' object is not callable"
     ]
    }
   ],
   "source": [
    "df.shape()"
   ]
  },
  {
   "cell_type": "code",
   "execution_count": 18,
   "id": "c83c4652-0c72-4d8d-8372-605cd6bdfb05",
   "metadata": {},
   "outputs": [
    {
     "data": {
      "text/plain": [
       "(545, 13)"
      ]
     },
     "execution_count": 18,
     "metadata": {},
     "output_type": "execute_result"
    }
   ],
   "source": [
    "df.shape"
   ]
  },
  {
   "cell_type": "code",
   "execution_count": 19,
   "id": "119b6561-b15f-4079-90f9-30f7eb952f4b",
   "metadata": {},
   "outputs": [
    {
     "data": {
      "text/plain": [
       "RangeIndex(start=0, stop=545, step=1)"
      ]
     },
     "execution_count": 19,
     "metadata": {},
     "output_type": "execute_result"
    }
   ],
   "source": [
    "df.index"
   ]
  },
  {
   "cell_type": "code",
   "execution_count": 20,
   "id": "b40441af-f276-4e23-bf79-49be4d4bf7ac",
   "metadata": {},
   "outputs": [
    {
     "data": {
      "text/plain": [
       "Index(['price', 'area', 'bedrooms', 'bathrooms', 'stories', 'mainroad',\n",
       "       'guestroom', 'basement', 'hotwaterheating', 'airconditioning',\n",
       "       'parking', 'prefarea', 'furnishingstatus'],\n",
       "      dtype='object')"
      ]
     },
     "execution_count": 20,
     "metadata": {},
     "output_type": "execute_result"
    }
   ],
   "source": [
    "df.columns"
   ]
  },
  {
   "cell_type": "code",
   "execution_count": 21,
   "id": "52f6f3dc-2af9-40d6-8a99-4660c8b89424",
   "metadata": {},
   "outputs": [
    {
     "data": {
      "text/plain": [
       "price                int64\n",
       "area                 int64\n",
       "bedrooms             int64\n",
       "bathrooms            int64\n",
       "stories              int64\n",
       "mainroad            object\n",
       "guestroom           object\n",
       "basement            object\n",
       "hotwaterheating     object\n",
       "airconditioning     object\n",
       "parking              int64\n",
       "prefarea            object\n",
       "furnishingstatus    object\n",
       "dtype: object"
      ]
     },
     "execution_count": 21,
     "metadata": {},
     "output_type": "execute_result"
    }
   ],
   "source": [
    "df.dtypes"
   ]
  },
  {
   "cell_type": "markdown",
   "id": "126f5cc6-8427-4d03-b5be-13243395ffac",
   "metadata": {},
   "source": [
    "# Checking for missing Values"
   ]
  },
  {
   "cell_type": "code",
   "execution_count": 22,
   "id": "960169cc-e494-426e-9545-0d52f3626011",
   "metadata": {},
   "outputs": [
    {
     "data": {
      "text/plain": [
       "price               0\n",
       "area                0\n",
       "bedrooms            0\n",
       "bathrooms           0\n",
       "stories             0\n",
       "mainroad            0\n",
       "guestroom           0\n",
       "basement            0\n",
       "hotwaterheating     0\n",
       "airconditioning     0\n",
       "parking             0\n",
       "prefarea            0\n",
       "furnishingstatus    0\n",
       "dtype: int64"
      ]
     },
     "execution_count": 22,
     "metadata": {},
     "output_type": "execute_result"
    }
   ],
   "source": [
    "df.isna().sum()"
   ]
  },
  {
   "cell_type": "markdown",
   "id": "55ae60d4-0175-4975-9e5b-30cf4cff2d1b",
   "metadata": {},
   "source": [
    "# Checking for the duplicated Values"
   ]
  },
  {
   "cell_type": "code",
   "execution_count": 23,
   "id": "62ffa864-db4f-4970-9588-b3e5e8307dcb",
   "metadata": {},
   "outputs": [
    {
     "data": {
      "text/plain": [
       "0"
      ]
     },
     "execution_count": 23,
     "metadata": {},
     "output_type": "execute_result"
    }
   ],
   "source": [
    "df.duplicated().sum()"
   ]
  },
  {
   "cell_type": "code",
   "execution_count": 24,
   "id": "ba4d0371-62a5-45ce-89f9-d9faca62f4bc",
   "metadata": {},
   "outputs": [
    {
     "ename": "SyntaxError",
     "evalue": "unexpected EOF while parsing (2372210584.py, line 1)",
     "output_type": "error",
     "traceback": [
      "\u001b[0;36m  Cell \u001b[0;32mIn[24], line 1\u001b[0;36m\u001b[0m\n\u001b[0;31m    df = df.drop_duplicates().reset_index(\u001b[0m\n\u001b[0m                                          ^\u001b[0m\n\u001b[0;31mSyntaxError\u001b[0m\u001b[0;31m:\u001b[0m unexpected EOF while parsing\n"
     ]
    }
   ],
   "source": [
    "df = df.drop_duplicates().reset_index("
   ]
  },
  {
   "cell_type": "code",
   "execution_count": 25,
   "id": "a50ca079-3e09-4b21-98c7-18c59e605efc",
   "metadata": {},
   "outputs": [
    {
     "data": {
      "image/png": "[encoded data removed]",
      "text/plain": [
       "<Figure size 1000x600 with 1 Axes>"
      ]
     },
     "metadata": {},
     "output_type": "display_data"
    }
   ],
   "source": [
    "plt.figure(figsize = (10,6))\n",
    "sns.histplot(df['price'], kde = True, color = 'skyblue', bins = 30)\n",
    "plt.title(\"Distribution of House Prices\", fontsize = 16)\n",
    "plt.xlabel(\"Price\")\n",
    "plt.ylabel(\"frequency\")\n",
    "plt.show()"
   ]
  },
  {
   "cell_type": "code",
   "execution_count": 26,
   "id": "974225d2-35d8-4d43-bb7a-e9aaa1cd1cf2",
   "metadata": {},
   "outputs": [
    {
     "data": {
      "image/png": "[encoded data removed]",
      "text/plain": [
       "<Figure size 1000x600 with 1 Axes>"
      ]
     },
     "metadata": {},
     "output_type": "display_data"
    }
   ],
   "source": [
    "plt.figure (figsize =(10,6))\n",
    "sns.scatterplot(x='area', y = 'price', data = df, color = 'orange')\n",
    "sns.regplot(x='area', y = 'price', data = df, scatter = False, color= 'blue')\n",
    "plt.title(\"Area vs Price\")\n",
    "plt.show()"
   ]
  },
  {
   "cell_type": "code",
   "execution_count": 27,
   "id": "f9edbe7e-4018-4df4-ac92-8b97d314952d",
   "metadata": {},
   "outputs": [
    {
     "data": {
      "application/vnd.plotly.v1+json": {
       "config": {
        "plotlyServerURL": "https://plot.ly"
       },
       "data": [
        {
         "customdata": {
          "bdata": "BAICBAQDBAIDBAECBAECAwECBAICAwICAwICAwEBAwIBAwICBAICBAIBBQEBAwICAwIBBAICAwEAAwIABAIBAwIBAwEDBAIBBAIBAwIBBAIBBAICAwEBAwIBAgEBAwEBBAICAgIAAwEBAwIAAwIAAwECAwIAAwIBAwIABQMCAgECAwIAAwEBAwIAAwICBgIAAwECAgECBAEAAwEAAwECBAIAAwIBAwEBAwECBAEBAwEABQEAAwICBAIBAwIABAEAAwIBBAEAAwECAwEBAwIAAgEABAECAwEAAwEBAwECAwECAwEBAgEBAwEAAwEBAwEAAwEABAIAAgEAAwECAwEAAgEBAwEBAwIBBAECAgEAAgEAAgECBAEAAgEBAwEAAwEDAwEAAwEAAwECAwIBAwEAAwIDAgEBAgECBAIAAwEAAwEAAgEBAwECBQIBBAEBAgEAAgEAAgEAAgEAAgEAAwEABAICAgEAAgEBAwEAAwEAAwEBAgEAAgECAwEAAwEAAwEAAwEAAwEAAQEAAgEAAgEAAgEBAwEAAgIBAgEAAwEABAIAAwEA",
          "dtype": "i1",
          "shape": "140, 3"
         },
         "hovertemplate": "furnishingstatus=furnished<br>area=%{x}<br>price=%{y}<br>stories=%{marker.size}<br>bedrooms=%{customdata[0]}<br>bathrooms=%{customdata[1]}<br>parking=%{customdata[2]}<extra></extra>",
         "legendgroup": "furnished",
         "marker": {
          "color": "#636efa",
          "size": {
           "bdata": "AwQCAgICAgQCAQICAgICBAMEAgQEBAQEBAQCAwECAQECBAIDAwEDAQMCAQQBAwECAQECAQECBAMBAgQCAQIBBAICAQICAgIBAgECAgECAgICAgICAQECAwIBAQECAQEBAQECAQIBAQECAgMBAQECAQEBAQICAgEBAwMCAQEBAgECAgEBAQEBAgICAgE=",
           "dtype": "i1"
          },
          "sizemode": "area",
          "sizeref": 0.01,
          "symbol": "circle"
         },
         "mode": "markers",
         "name": "furnished",
         "orientation": "v",
         "showlegend": true,
         "type": "scatter",
         "x": {
          "bdata": "/BwAI0wd/BykH5AzrA00IfgRch/QEWAijBkQE7gaWBs6HSgjlhnYGHAXcBfIGXAXKCNwF2AY2BinK7AikDNwFzovyBnIDxQZZBlEFnAXBCk6IIQhXhrAEigjzhh8FcwQlCWQGnQOFBmMGZgcfRl8FdgYXBKIExgV1BcBC04MQhg2GqQQSCEgHLgLkiywHcgZaBBkMs4asRhwF6EOoA84DvYJfhPADaAPOiDYGFoMlBGsDcAP2BiUEQgRWh7jClgblBEQDuAQhA14D1wc2gzoDmwM8BsoC9AgOiDYCRIb0g9KFS4OEA64C04MlBGUEQwXYQhhCLESOA5xDIwKYQisF2EIMAx6DfgRjApQCngPEA64C6sJ4wpeCw==",
          "dtype": "i2"
         },
         "xaxis": "x",
         "y": {
          "bdata": "IPHKAJDrugDYYroAUBquALCalgBAiZUAwP2MAAC4iACQpocAiOmDAIjpgwAY2IIAYE+CAFiSfgDA5nsALE57APi5egDgw3kAuCl4AAChdwBAW3MAiNJyANBJcgDwJnAAyIxuABAEbgAw4WsAeFhrAMDPagBQvmkAUL5pAOCsaABwm2cASAFmAJB4ZQCQeGUAkHhlAJB4ZQCQeGUA2O9kALBVYwBARGIAOPJhAIi7YQBgIWAAOIdeADiHXgC40VwAuNFcAKDbWwAwyloAMMpaADDKWgAwyloAMMpaAGidWQDglVcAAHNVAABzVQBI6lQAkGFUANjYUwAgUFMAIFBTALA+UgDQG1AA0BtQABiTTwDw+E0A8PhNAIDnTACA50wA+N9KAKDESgAws0kAwKFIAFCQRwCYB0cAKPZFAHBtRQBwbUUAGFJFALjkRAAAXEQAAFxEAKhARACoQEQAIDlCACA5QgAY50EAsCdBALAnQQCwJ0EAsCdBAPieQABAFkAAQBZAAMSJPgBg8z0AqGo9APDhPACA0DsAgNA7AIDQOwDIRzsAEL86AKCtOQCgrTkASJI5AEiSOQBIkjkAMJw4ANiAOAB4EzgAeBM4AMCKNwBQeTYAUHk2AFB5NgDgZzUAKN80AHBWNAC4zTMAuM0zAABFMwCoKTMAoNcyAJAzMgCQMzIAICIxALAQMADQ7S0AYNwsADhCKwCAuSoAMIUnAMBzJgDgUCQA4FAkAPCzGgA=",
          "dtype": "i4"
         },
         "yaxis": "y"
        },
        {
         "customdata": {
          "bdata": "AwICAwMCBAMCBAMCBAIBAwIABAECAwIBAwECAwIAAwEBBAIBAwECBAIBBAICAwIAAwIAAwICAwIBBAEBBAIBAwIBAgEBAwIABAIAAwEBAwIBAwIAAwECAwECAwEAAwIDBAIBAwICAwEBAwIBBAIABAEBBAIBAwECAwECAwECAwEABAIBAwECAwECBAEAAwEAAwECBAEBAwEABAIBBAIBAgEBAwIBAwEABAIABAECAwMAAwICAwEAAwECAwEABAIAAwEAAgICBAIAAwIAAwEBBAICAwEAAwECAwICBAICAwEAAwEBAwEAAgEAAwEAAgEAAwIABAMCAwEAAwIBAwEAAwEAAwEAAgEBBAEAAwEAAwECAgEAAwEAAwEAAwECBAICBAIAAwECAgEABAECBAIAAgECAgEDAwEAAwECBAIBAgEAAwEAAwICAwEBAgEAAwEABAIAAwEBAwECAwEAAwEAAgIAAwEAAwEBAwEABAECAwEBAwEAAgEAAwEAAgEAAwEAAwEBBAEABQEAAwECBAEAAgEBAgEBAwECAwEAAgECBAMABAIABAIAAwEAAwIBAwECAwEAAwEAAwEDAwEBAwEBAwECAwEBBAEAAwEAAgEBAwIAAgEBAgEAAwEABAECAwICAwEDAwEABAEAAwEBAwIABAEAAwEAAwECAgEABQIAAgICAgEAAgEAAwEAAgEAAgIAAwEAAgEBAgEAAgEAAgEAAwEAAgEAAwEAAgEAAgECAwEAAwEAAgIAAwICAwEAAgEAAgEAAwEABAEAAwEAAwEAAgEBAgEBBAEAAwEABAEBBAEAAgEAAgEAAgECAwEAAgEAAwECAwEAAwEAAgEBAwEAAwECAgEABAEDAgEAAwEBAwEAAgEAAwEBAgEAAgEBAwEAAwEAAgEAAwEA",
          "dtype": "i1",
          "shape": "227, 3"
         },
         "hovertemplate": "furnishingstatus=semi-furnished<br>area=%{x}<br>price=%{y}<br>stories=%{marker.size}<br>bedrooms=%{customdata[0]}<br>bathrooms=%{customdata[1]}<br>parking=%{customdata[2]}<extra></extra>",
         "legendgroup": "semi-furnished",
         "marker": {
          "color": "#EF553B",
          "size": {
           "bdata": "AgEEAgICAgICBAECBAQEAwEEAgIEAgECAgICBAIBAgEEAwEEAQMCAQEBAgEBAwQDAQIDAgIBAgMBAgICAQEDAgEBAgEBAgEBAgECAQEBAgEBAgECAgICAQIBAQECAwICAQEBBAIBAQQCAgIBAgICAgICAQIBAQMCAQICAgECAgICAgIBAgEBAgIBAgICAgIBAwIBAgICAgIBAQICAQEDAgECAgICAgIBAgIBAQECAgECAgEBAQEBAgEBAgIBAgMBAQICAgIBAQMCAgIBAQECAQIBAgICAgECAgICAQICAQECAQE=",
           "dtype": "i1"
          },
          "sizemode": "area",
          "sizeref": 0.01,
          "symbol": "circle"
         },
         "mode": "markers",
         "name": "semi-furnished",
         "orientation": "v",
         "showlegend": true,
         "type": "scatter",
         "x": {
          "bdata": "6CZMHYQhcBeWGXgecBcUGeAQcBerInwVWBtwF3AXcBcQHR4UcBewLAAecBewIqAPpBBwF6APcBewDngPiBMgHHAXBBAAGXwVShWoDNcZyBlAH2wbPxxuGPA8xCzEFlAUWBsgEogTBBoEKQQpfBXYGMgZMBHkDEIO9BosH9QXyBmpGvgRjBl8FR0oSCaiF60bbAyUEVINLB/UF9QNzCnAEtYfOhEGHvAKPBeoEf8PGBAYFaISnBioFrgLmgsmElwNgxOYF88SpB9cDc4jKBkyFC4OwyUYFeAQKA8wFjYLkhOeEQAPsA7IFMANBBC2DXoNhCaeEcgPtg2mDoAPJBNACzgTVhNxB+sPMhkwEXgoSA36GdoWMgq7CqAPFQn4EagW7w/ADTogeg3oEvAPzg8YEmEXrBdgDsgP4BX0ELgLLg4YFZQRhA1QGZQRfBW4C5AfxA60FGwM8A8KD98HgAhODNQSXA0QDpgNyA+EFwAOMAwIFrgQ8g1sDMANIhDjCJQRoA+QEPgR3AuWDzgOthxgExwMmA3QDpQRrA3/D3oNXhooI14JcAiUERIMqAwTCy4OuAuYDdcZcBfkDNAHmA2gD7gLLAdgCQ==",
          "dtype": "i2"
         },
         "xaxis": "x",
         "y": {
          "bdata": "kOu6ANCOpQBw4JoAaLiTADAPjgDA/YwA4NqKANgdhwCwg4UAmCKBAIAsgACALIAAgCyAAHCyeAAgfnUAQFtzAGA4cQDwJnAA8CZwAJgLcAAQBG4AoPJsADDhawBwm2cAkHhlAIgmZQDY72QAIGdkALBVYwD4zGIAQERiAGAhYABgIWAAYCFgAGAhYAA4h14AgP5dAGwxXQAQ7VwAEO1cAKDbWwAwyloAMMpaADDKWgDYrloAaJ1ZAFCnWABQp1gA+ItYAOCVVwDglVcAFEBWAABzVQAAc1UAAHNVAABzVQAAc1UASOpUAJBhVACQYVQAOEZUANjYUwAgUFMAIFBTAGjHUgCIpFAA0BtQANAbUADQG1AA0BtQAHgAUADIyU8AGJNPABiTTwCogU4AqIFOAPD4TQCA50wAgOdMACjMTADIXkwAENZLABDWSwBgn0sAWE1LAKDESgCgxEoAoMRKAKDESgCgxEoAoMRKAKDESgCgxEoAoMRKAKDESgBIqUoASKlKADCzSQAws0kAeCpJABi9SADAoUgAaIZIAFCQRwBQkEcAUJBHAFCQRwBQkEcA4H5GAOB+RgDgfkYA4H5GAIhjRgAo9kUAcG1FAHBtRQBwbUUAGFJFALjkRAC45EQAuOREAABcRAAAXEQAqEBEAEjTQwCQSkMAkEpDADgvQwA4L0MAMN1CACA5QgAgOUIAIDlCAGiwQQBosEEACENBAPieQABAFkAAQBZAAEAWQABAFkAAQBZAAEAWQABAFkAAQBZAAEAWQADo+j8A6Po/AIiNPwCIjT8AiI0/ANAEPwDQBD8AeOk+ABh8PgAYfD4AGHw+AGDzPQBg8z0AqGo9AKhqPQBMJj0ATCY9APDhPADw4TwAgNA7AIDQOwCA0DsAyEc7ABC/OgAQvzoAEL86ABC/OgAQvzoAEL86AFg2OgCgrTkAoK05AKCtOQDoJDkAMJw4ADCcOAAwnDgA2IA4AHgTOADAijcAwIo3AMCKNwDAijcAwIo3AMCKNwAIAjcACAI3AOBnNQDgZzUA4Gc1AOBnNQDgZzUA4Gc1AABFMwAARTMAkDMyAJAzMgDYqjEAsBAwALAQMACwEDAAsBAwALAQMAACly8AQP8uAED/LgDQ7S0A0O0tANDtLQDQ7S0AaC4tAGDcLABg3CwA8MorADhCKwCgligAoJYoAKCWKAAI6yUAuLYiAO72GgA=",
          "dtype": "i4"
         },
         "yaxis": "y"
        },
        {
         "customdata": {
          "bdata": "BQMAAwIBBAIBAwICBQICAwICAwMBAwECAwICAwIBAwIBAwEBAwEBAwICBAIAAwEAAwEAAwECAwIABAEAAwIAAwEBAwEAAwEAAwECAwIAAwECAwIAAwEAAwEAAwIABAICAwIABQIAAwEAAwIAAwECAwECBAIAAwEBAwEAAgEAAwEAAgEAAwEAAwEAAgECAwEAAwECBAEDAgEBAwECAwEAAgEAAwEAAwEAAwEAAwEAAgEBAwIAAwEBBAIBAwICBAEAAgEABAIAAwEAAgECAwEBAgEAAwEAAwIAAwECAgEAAwECAwEAAwIAAwEAAwEABgEBAwEBAgEBAwEDAgEAAwEAAwEAAwEAAgEBAgEAAgECAwEAAwEAAwIAAgEAAwECBAECAgEAAgEAAgEAAwEAAgEBBAEAAgEABAEAAgEAAwEBAgEABAEAAwEAAgEBAwEBAgIBAwEAAgEBAwEAAwEAAwEAAwEAAgEAAgEBAgEAAgEAAgEAAwEAAwEAAgEABAEBAwEBAgEAAwEBBAEAAwEAAgEAAgEABAEABAEAAwEBAwEBAgEAAwEBAgEAAgEAAwMAAwEAAwEAAgEAAwEAAgEAAgEAAgEAAwEAAwEAAwEAAwEAAgEBAgEBAgEAAgEAAgEAAgEAAgEAAgEAAgEAAQEAAwEAAwEAAwEAAgEAAwEABAEAAgEBBQEAAwEAAgEAAgEBAgECAgEAAwEA",
          "dtype": "i1",
          "shape": "178, 3"
         },
         "hovertemplate": "furnishingstatus=unfurnished<br>area=%{x}<br>price=%{y}<br>stories=%{marker.size}<br>bedrooms=%{customdata[0]}<br>bathrooms=%{customdata[1]}<br>parking=%{customdata[2]}<extra></extra>",
         "legendgroup": "unfurnished",
         "marker": {
          "color": "#00cc96",
          "size": {
           "bdata": "AgQCAQIEAgQEAgQEAgEEBAMBAwMBAwQDAwEBAwEDBAIEAwIBAQIBAgICAQEDAgEBAgQBAQICAgICAgECAwICAQIBAgEBAQICAQEBAgIBAQICAQIBAQIBAQEBAQICAQECAgEBAQECAQIBAQECAgEBAQIBAgEBAgEBAQEBAQIBAgIBAgICAQECAwICAQIBAQIBAQECAQEBAQECAgEBAQIBAQEBAQECAQEBAgIBAgIBAQEBAg==",
           "dtype": "i1"
          },
          "sizemode": "area",
          "sizeref": 0.01,
          "symbol": "circle"
         },
         "mode": "markers",
         "name": "unfurnished",
         "orientation": "v",
         "showlegend": true,
         "type": "scatter",
         "x": {
          "bdata": "SD92FsgZ8xsOHzMdSBdwF1AZzBAQHbUYcBcUHnAXnBMOGvIcyBlwF8gZfBWUERQZtCD0GvgbZBnAEsAScBcYFagWwBIQFDIZeB7QILQU2A64C1gWQBr+EEAQWBsAKEAQ8BTQIP0WEBM8D9gYfwh8FbATiQs6ETgOYQgMF4ATBBDSD2EIFg3GFhAOLg5IFyILwA04DgoPQg5XCAAdmA0QDjAMuA0cJfgWkDIkE/QLyBSgD3EMCg8yCp4HyA96DawNGBCOEogOpg7ID6cSxAlsDMgP+BZaDzgOEhF8CuAQkg9yBv0LlBF3FbgLCg+sDaQfYBMSDNgO1BOmDnIfABHaFmATEA5MDk4M4AsuDhgVUBT+EFoKkBqgD6APXg8uDvAKfglxDKAPXgsQDjARQAtsDDARigyoDLgLrA3oEhQeMw7ADDgObAyCD4IPnge0FLgLYAm4CyANXA2kBkEOrgu4CyQOCg8=",
          "dtype": "i2"
         },
         "xaxis": "x",
         "y": {
          "bdata": "cOCaAECJlQDg2ooAQHKEAIAsgACALIAAMPh8AIR/eQAgfnUAGMFxAGA4cQBgOHEA8CZwAJg1aQC4EmcAAIpmALBVYwD4zGIACAZgAKiYXwDwD18A8A9fAID+XQDIdV0AEO1cAKDbWwDAuFkAwLhZABCCWQBQp1gAmB5YAOCVVwDglVcAAHNVAABzVQBYI1IAQC1RANAbUADQG1AA0BtQAPD4TQA4cE0AoMRKAOg7SgAws0kAeCpJAMChSADgfkYAcG1FAHBtRQAAXEQAOC9DANjBQgCwJ0EAsCdBAEAWQABAFkAAQBZAAEAWQABAFkAAQBZAAGDzPQBg8z0A8OE8APDhPACA0DsAYIg6AKCtOQAwnDgAeBM4AMCKNwDAijcAaG83AFB5NgCY8DUA4Gc1AOBnNQDgZzUA4Gc1AOBnNQDgZzUA4Gc1AOBnNQDgZzUA4Gc1AIhMNQAo3zQAKN80AHBWNABwVjQAcFY0AHBWNABwVjQAGDs0ALjNMwAARTMAAEUzAABFMwAARTMAAEUzAEi8MgBIvDIAkDMyAJAzMgCQMzIAkDMyANiqMQDQWDEAICIxACAiMQAgIjEAsBAwALAQMACwEDAAWPUvAKi+LwD4hy8A+IcvAPiHLwCYGi8AQP8uAED/LgCIdi4A0O0tANDtLQB40i0AGGUtAGDcLABg3CwAYNwsAGDcLABg3CwA8MorAPDKKwDwyisAlIYrADhCKwCAuSoAEKgpABCoKQBYHykAoJYoAKCWKACgligAoJYoAEh7KABIeygA4LsnADCFJwAwhScAwHMmAMBzJgAI6yUAUGIlAFBiJQBQYiUAUGIlAFBiJQBQYiUAQL4kAOBQJAAoyCMAcD8jALi2IgC4tiIAAC4iAKgSIgDYkyAAIAsgACALIAAgCyAAQOgdANDWHADQ1hwAGE4cAGDFGwDwsxoA8LMaAA==",
          "dtype": "i4"
         },
         "yaxis": "y"
        }
       ],
       "layout": {
        "legend": {
         "itemsizing": "constant",
         "title": {
          "text": "furnishingstatus"
         },
         "tracegroupgap": 0
        },
        "template": {
         "data": {
          "bar": [
           {
            "error_x": {
             "color": "#2a3f5f"
            },
            "error_y": {
             "color": "#2a3f5f"
            },
            "marker": {
             "line": {
              "color": "#E5ECF6",
              "width": 0.5
             },
             "pattern": {
              "fillmode": "overlay",
              "size": 10,
              "solidity": 0.2
             }
            },
            "type": "bar"
           }
          ],
          "barpolar": [
           {
            "marker": {
             "line": {
              "color": "#E5ECF6",
              "width": 0.5
             },
             "pattern": {
              "fillmode": "overlay",
              "size": 10,
              "solidity": 0.2
             }
            },
            "type": "barpolar"
           }
          ],
          "carpet": [
           {
            "aaxis": {
             "endlinecolor": "#2a3f5f",
             "gridcolor": "white",
             "linecolor": "white",
             "minorgridcolor": "white",
             "startlinecolor": "#2a3f5f"
            },
            "baxis": {
             "endlinecolor": "#2a3f5f",
             "gridcolor": "white",
             "linecolor": "white",
             "minorgridcolor": "white",
             "startlinecolor": "#2a3f5f"
            },
            "type": "carpet"
           }
          ],
          "choropleth": [
           {
            "colorbar": {
             "outlinewidth": 0,
             "ticks": ""
            },
            "type": "choropleth"
           }
          ],
          "contour": [
           {
            "colorbar": {
             "outlinewidth": 0,
             "ticks": ""
            },
            "colorscale": [
             [
              0,
              "#0d0887"
             ],
             [
              0.1111111111111111,
              "#46039f"
             ],
             [
              0.2222222222222222,
              "#7201a8"
             ],
             [
              0.3333333333333333,
              "#9c179e"
             ],
             [
              0.4444444444444444,
              "#bd3786"
             ],
             [
              0.5555555555555556,
              "#d8576b"
             ],
             [
              0.6666666666666666,
              "#ed7953"
             ],
             [
              0.7777777777777778,
              "#fb9f3a"
             ],
             [
              0.8888888888888888,
              "#fdca26"
             ],
             [
              1,
              "#f0f921"
             ]
            ],
            "type": "contour"
           }
          ],
          "contourcarpet": [
           {
            "colorbar": {
             "outlinewidth": 0,
             "ticks": ""
            },
            "type": "contourcarpet"
           }
          ],
          "heatmap": [
           {
            "colorbar": {
             "outlinewidth": 0,
             "ticks": ""
            },
            "colorscale": [
             [
              0,
              "#0d0887"
             ],
             [
              0.1111111111111111,
              "#46039f"
             ],
             [
              0.2222222222222222,
              "#7201a8"
             ],
             [
              0.3333333333333333,
              "#9c179e"
             ],
             [
              0.4444444444444444,
              "#bd3786"
             ],
             [
              0.5555555555555556,
              "#d8576b"
             ],
             [
              0.6666666666666666,
              "#ed7953"
             ],
             [
              0.7777777777777778,
              "#fb9f3a"
             ],
             [
              0.8888888888888888,
              "#fdca26"
             ],
             [
              1,
              "#f0f921"
             ]
            ],
            "type": "heatmap"
           }
          ],
          "histogram": [
           {
            "marker": {
             "pattern": {
              "fillmode": "overlay",
              "size": 10,
              "solidity": 0.2
             }
            },
            "type": "histogram"
           }
          ],
          "histogram2d": [
           {
            "colorbar": {
             "outlinewidth": 0,
             "ticks": ""
            },
            "colorscale": [
             [
              0,
              "#0d0887"
             ],
             [
              0.1111111111111111,
              "#46039f"
             ],
             [
              0.2222222222222222,
              "#7201a8"
             ],
             [
              0.3333333333333333,
              "#9c179e"
             ],
             [
              0.4444444444444444,
              "#bd3786"
             ],
             [
              0.5555555555555556,
              "#d8576b"
             ],
             [
              0.6666666666666666,
              "#ed7953"
             ],
             [
              0.7777777777777778,
              "#fb9f3a"
             ],
             [
              0.8888888888888888,
              "#fdca26"
             ],
             [
              1,
              "#f0f921"
             ]
            ],
            "type": "histogram2d"
           }
          ],
          "histogram2dcontour": [
           {
            "colorbar": {
             "outlinewidth": 0,
             "ticks": ""
            },
            "colorscale": [
             [
              0,
              "#0d0887"
             ],
             [
              0.1111111111111111,
              "#46039f"
             ],
             [
              0.2222222222222222,
              "#7201a8"
             ],
             [
              0.3333333333333333,
              "#9c179e"
             ],
             [
              0.4444444444444444,
              "#bd3786"
             ],
             [
              0.5555555555555556,
              "#d8576b"
             ],
             [
              0.6666666666666666,
              "#ed7953"
             ],
             [
              0.7777777777777778,
              "#fb9f3a"
             ],
             [
              0.8888888888888888,
              "#fdca26"
             ],
             [
              1,
              "#f0f921"
             ]
            ],
            "type": "histogram2dcontour"
           }
          ],
          "mesh3d": [
           {
            "colorbar": {
             "outlinewidth": 0,
             "ticks": ""
            },
            "type": "mesh3d"
           }
          ],
          "parcoords": [
           {
            "line": {
             "colorbar": {
              "outlinewidth": 0,
              "ticks": ""
             }
            },
            "type": "parcoords"
           }
          ],
          "pie": [
           {
            "automargin": true,
            "type": "pie"
           }
          ],
          "scatter": [
           {
            "fillpattern": {
             "fillmode": "overlay",
             "size": 10,
             "solidity": 0.2
            },
            "type": "scatter"
           }
          ],
          "scatter3d": [
           {
            "line": {
             "colorbar": {
              "outlinewidth": 0,
              "ticks": ""
             }
            },
            "marker": {
             "colorbar": {
              "outlinewidth": 0,
              "ticks": ""
             }
            },
            "type": "scatter3d"
           }
          ],
          "scattercarpet": [
           {
            "marker": {
             "colorbar": {
              "outlinewidth": 0,
              "ticks": ""
             }
            },
            "type": "scattercarpet"
           }
          ],
          "scattergeo": [
           {
            "marker": {
             "colorbar": {
              "outlinewidth": 0,
              "ticks": ""
             }
            },
            "type": "scattergeo"
           }
          ],
          "scattergl": [
           {
            "marker": {
             "colorbar": {
              "outlinewidth": 0,
              "ticks": ""
             }
            },
            "type": "scattergl"
           }
          ],
          "scattermap": [
           {
            "marker": {
             "colorbar": {
              "outlinewidth": 0,
              "ticks": ""
             }
            },
            "type": "scattermap"
           }
          ],
          "scattermapbox": [
           {
            "marker": {
             "colorbar": {
              "outlinewidth": 0,
              "ticks": ""
             }
            },
            "type": "scattermapbox"
           }
          ],
          "scatterpolar": [
           {
            "marker": {
             "colorbar": {
              "outlinewidth": 0,
              "ticks": ""
             }
            },
            "type": "scatterpolar"
           }
          ],
          "scatterpolargl": [
           {
            "marker": {
             "colorbar": {
              "outlinewidth": 0,
              "ticks": ""
             }
            },
            "type": "scatterpolargl"
           }
          ],
          "scatterternary": [
           {
            "marker": {
             "colorbar": {
              "outlinewidth": 0,
              "ticks": ""
             }
            },
            "type": "scatterternary"
           }
          ],
          "surface": [
           {
            "colorbar": {
             "outlinewidth": 0,
             "ticks": ""
            },
            "colorscale": [
             [
              0,
              "#0d0887"
             ],
             [
              0.1111111111111111,
              "#46039f"
             ],
             [
              0.2222222222222222,
              "#7201a8"
             ],
             [
              0.3333333333333333,
              "#9c179e"
             ],
             [
              0.4444444444444444,
              "#bd3786"
             ],
             [
              0.5555555555555556,
              "#d8576b"
             ],
             [
              0.6666666666666666,
              "#ed7953"
             ],
             [
              0.7777777777777778,
              "#fb9f3a"
             ],
             [
              0.8888888888888888,
              "#fdca26"
             ],
             [
              1,
              "#f0f921"
             ]
            ],
            "type": "surface"
           }
          ],
          "table": [
           {
            "cells": {
             "fill": {
              "color": "#EBF0F8"
             },
             "line": {
              "color": "white"
             }
            },
            "header": {
             "fill": {
              "color": "#C8D4E3"
             },
             "line": {
              "color": "white"
             }
            },
            "type": "table"
           }
          ]
         },
         "layout": {
          "annotationdefaults": {
           "arrowcolor": "#2a3f5f",
           "arrowhead": 0,
           "arrowwidth": 1
          },
          "autotypenumbers": "strict",
          "coloraxis": {
           "colorbar": {
            "outlinewidth": 0,
            "ticks": ""
           }
          },
          "colorscale": {
           "diverging": [
            [
             0,
             "#8e0152"
            ],
            [
             0.1,
             "#c51b7d"
            ],
            [
             0.2,
             "#de77ae"
            ],
            [
             0.3,
             "#f1b6da"
            ],
            [
             0.4,
             "#fde0ef"
            ],
            [
             0.5,
             "#f7f7f7"
            ],
            [
             0.6,
             "#e6f5d0"
            ],
            [
             0.7,
             "#b8e186"
            ],
            [
             0.8,
             "#7fbc41"
            ],
            [
             0.9,
             "#4d9221"
            ],
            [
             1,
             "#276419"
            ]
           ],
           "sequential": [
            [
             0,
             "#0d0887"
            ],
            [
             0.1111111111111111,
             "#46039f"
            ],
            [
             0.2222222222222222,
             "#7201a8"
            ],
            [
             0.3333333333333333,
             "#9c179e"
            ],
            [
             0.4444444444444444,
             "#bd3786"
            ],
            [
             0.5555555555555556,
             "#d8576b"
            ],
            [
             0.6666666666666666,
             "#ed7953"
            ],
            [
             0.7777777777777778,
             "#fb9f3a"
            ],
            [
             0.8888888888888888,
             "#fdca26"
            ],
            [
             1,
             "#f0f921"
            ]
           ],
           "sequentialminus": [
            [
             0,
             "#0d0887"
            ],
            [
             0.1111111111111111,
             "#46039f"
            ],
            [
             0.2222222222222222,
             "#7201a8"
            ],
            [
             0.3333333333333333,
             "#9c179e"
            ],
            [
             0.4444444444444444,
             "#bd3786"
            ],
            [
             0.5555555555555556,
             "#d8576b"
            ],
            [
             0.6666666666666666,
             "#ed7953"
            ],
            [
             0.7777777777777778,
             "#fb9f3a"
            ],
            [
             0.8888888888888888,
             "#fdca26"
            ],
            [
             1,
             "#f0f921"
            ]
           ]
          },
          "colorway": [
           "#636efa",
           "#EF553B",
           "#00cc96",
           "#ab63fa",
           "#FFA15A",
           "#19d3f3",
           "#FF6692",
           "#B6E880",
           "#FF97FF",
           "#FECB52"
          ],
          "font": {
           "color": "#2a3f5f"
          },
          "geo": {
           "bgcolor": "white",
           "lakecolor": "white",
           "landcolor": "#E5ECF6",
           "showlakes": true,
           "showland": true,
           "subunitcolor": "white"
          },
          "hoverlabel": {
           "align": "left"
          },
          "hovermode": "closest",
          "mapbox": {
           "style": "light"
          },
          "paper_bgcolor": "white",
          "plot_bgcolor": "#E5ECF6",
          "polar": {
           "angularaxis": {
            "gridcolor": "white",
            "linecolor": "white",
            "ticks": ""
           },
           "bgcolor": "#E5ECF6",
           "radialaxis": {
            "gridcolor": "white",
            "linecolor": "white",
            "ticks": ""
           }
          },
          "scene": {
           "xaxis": {
            "backgroundcolor": "#E5ECF6",
            "gridcolor": "white",
            "gridwidth": 2,
            "linecolor": "white",
            "showbackground": true,
            "ticks": "",
            "zerolinecolor": "white"
           },
           "yaxis": {
            "backgroundcolor": "#E5ECF6",
            "gridcolor": "white",
            "gridwidth": 2,
            "linecolor": "white",
            "showbackground": true,
            "ticks": "",
            "zerolinecolor": "white"
           },
           "zaxis": {
            "backgroundcolor": "#E5ECF6",
            "gridcolor": "white",
            "gridwidth": 2,
            "linecolor": "white",
            "showbackground": true,
            "ticks": "",
            "zerolinecolor": "white"
           }
          },
          "shapedefaults": {
           "line": {
            "color": "#2a3f5f"
           }
          },
          "ternary": {
           "aaxis": {
            "gridcolor": "white",
            "linecolor": "white",
            "ticks": ""
           },
           "baxis": {
            "gridcolor": "white",
            "linecolor": "white",
            "ticks": ""
           },
           "bgcolor": "#E5ECF6",
           "caxis": {
            "gridcolor": "white",
            "linecolor": "white",
            "ticks": ""
           }
          },
          "title": {
           "x": 0.05
          },
          "xaxis": {
           "automargin": true,
           "gridcolor": "white",
           "linecolor": "white",
           "ticks": "",
           "title": {
            "standoff": 15
           },
           "zerolinecolor": "white",
           "zerolinewidth": 2
          },
          "yaxis": {
           "automargin": true,
           "gridcolor": "white",
           "linecolor": "white",
           "ticks": "",
           "title": {
            "standoff": 15
           },
           "zerolinecolor": "white",
           "zerolinewidth": 2
          }
         }
        },
        "title": {
         "text": "Price vs Area Coloured by Furnishing Status"
        },
        "xaxis": {
         "anchor": "y",
         "domain": [
          0,
          1
         ],
         "title": {
          "text": "area"
         }
        },
        "yaxis": {
         "anchor": "x",
         "domain": [
          0,
          1
         ],
         "title": {
          "text": "price"
         }
        }
       }
      },
      "image/png": "[encoded data removed]"
     },
     "metadata": {},
     "output_type": "display_data"
    }
   ],
   "source": [
    "fig = px.scatter(df, x = 'area', y = 'price',\n",
    "                 color='furnishingstatus',\n",
    "                 title = 'Price vs Area Coloured by Furnishing Status',\n",
    "                 size = 'stories',\n",
    "                 hover_data = ['bedrooms', 'bathrooms', 'parking'])\n",
    "fig.show()"
   ]
  },
  {
   "cell_type": "code",
   "execution_count": 29,
   "id": "7bb6fa3c-340e-4e9e-8ce1-fd24a34a8b5d",
   "metadata": {},
   "outputs": [
    {
     "data": {
      "application/vnd.plotly.v1+json": {
       "config": {
        "plotlyServerURL": "https://plot.ly"
       },
       "data": [
        {
         "alignmentgroup": "True",
         "hovertemplate": "Feature=%{x}<br>Value=%{y}<extra></extra>",
         "legendgroup": "price",
         "marker": {
          "color": "rgb(102, 197, 204)"
         },
         "name": "price",
         "notched": false,
         "offsetgroup": "price",
         "orientation": "v",
         "showlegend": true,
         "type": "box",
         "x": [
          "price",
          "price",
          "price",
          "price",
          "price",
          "price",
          "price",
          "price",
          "price",
          "price",
          "price",
          "price",
          "price",
          "price",
          "price",
          "price",
          "price",
          "price",
          "price",
          "price",
          "price",
          "price",
          "price",
          "price",
          "price",
          "price",
          "price",
          "price",
          "price",
          "price",
          "price",
          "price",
          "price",
          "price",
          "price",
          "price",
          "price",
          "price",
          "price",
          "price",
          "price",
          "price",
          "price",
          "price",
          "price",
          "price",
          "price",
          "price",
          "price",
          "price",
          "price",
          "price",
          "price",
          "price",
          "price",
          "price",
          "price",
          "price",
          "price",
          "price",
          "price",
          "price",
          "price",
          "price",
          "price",
          "price",
          "price",
          "price",
          "price",
          "price",
          "price",
          "price",
          "price",
          "price",
          "price",
          "price",
          "price",
          "price",
          "price",
          "price",
          "price",
          "price",
          "price",
          "price",
          "price",
          "price",
          "price",
          "price",
          "price",
          "price",
          "price",
          "price",
          "price",
          "price",
          "price",
          "price",
          "price",
          "price",
          "price",
          "price",
          "price",
          "price",
          "price",
          "price",
          "price",
          "price",
          "price",
          "price",
          "price",
          "price",
          "price",
          "price",
          "price",
          "price",
          "price",
          "price",
          "price",
          "price",
          "price",
          "price",
          "price",
          "price",
          "price",
          "price",
          "price",
          "price",
          "price",
          "price",
          "price",
          "price",
          "price",
          "price",
          "price",
          "price",
          "price",
          "price",
          "price",
          "price",
          "price",
          "price",
          "price",
          "price",
          "price",
          "price",
          "price",
          "price",
          "price",
          "price",
          "price",
          "price",
          "price",
          "price",
          "price",
          "price",
          "price",
          "price",
          "price",
          "price",
          "price",
          "price",
          "price",
          "price",
          "price",
          "price",
          "price",
          "price",
          "price",
          "price",
          "price",
          "price",
          "price",
          "price",
          "price",
          "price",
          "price",
          "price",
          "price",
          "price",
          "price",
          "price",
          "price",
          "price",
          "price",
          "price",
          "price",
          "price",
          "price",
          "price",
          "price",
          "price",
          "price",
          "price",
          "price",
          "price",
          "price",
          "price",
          "price",
          "price",
          "price",
          "price",
          "price",
          "price",
          "price",
          "price",
          "price",
          "price",
          "price",
          "price",
          "price",
          "price",
          "price",
          "price",
          "price",
          "price",
          "price",
          "price",
          "price",
          "price",
          "price",
          "price",
          "price",
          "price",
          "price",
          "price",
          "price",
          "price",
          "price",
          "price",
          "price",
          "price",
          "price",
          "price",
          "price",
          "price",
          "price",
          "price",
          "price",
          "price",
          "price",
          "price",
          "price",
          "price",
          "price",
          "price",
          "price",
          "price",
          "price",
          "price",
          "price",
          "price",
          "price",
          "price",
          "price",
          "price",
          "price",
          "price",
          "price",
          "price",
          "price",
          "price",
          "price",
          "price",
          "price",
          "price",
          "price",
          "price",
          "price",
          "price",
          "price",
          "price",
          "price",
          "price",
          "price",
          "price",
          "price",
          "price",
          "price",
          "price",
          "price",
          "price",
          "price",
          "price",
          "price",
          "price",
          "price",
          "price",
          "price",
          "price",
          "price",
          "price",
          "price",
          "price",
          "price",
          "price",
          "price",
          "price",
          "price",
          "price",
          "price",
          "price",
          "price",
          "price",
          "price",
          "price",
          "price",
          "price",
          "price",
          "price",
          "price",
          "price",
          "price",
          "price",
          "price",
          "price",
          "price",
          "price",
          "price",
          "price",
          "price",
          "price",
          "price",
          "price",
          "price",
          "price",
          "price",
          "price",
          "price",
          "price",
          "price",
          "price",
          "price",
          "price",
          "price",
          "price",
          "price",
          "price",
          "price",
          "price",
          "price",
          "price",
          "price",
          "price",
          "price",
          "price",
          "price",
          "price",
          "price",
          "price",
          "price",
          "price",
          "price",
          "price",
          "price",
          "price",
          "price",
          "price",
          "price",
          "price",
          "price",
          "price",
          "price",
          "price",
          "price",
          "price",
          "price",
          "price",
          "price",
          "price",
          "price",
          "price",
          "price",
          "price",
          "price",
          "price",
          "price",
          "price",
          "price",
          "price",
          "price",
          "price",
          "price",
          "price",
          "price",
          "price",
          "price",
          "price",
          "price",
          "price",
          "price",
          "price",
          "price",
          "price",
          "price",
          "price",
          "price",
          "price",
          "price",
          "price",
          "price",
          "price",
          "price",
          "price",
          "price",
          "price",
          "price",
          "price",
          "price",
          "price",
          "price",
          "price",
          "price",
          "price",
          "price",
          "price",
          "price",
          "price",
          "price",
          "price",
          "price",
          "price",
          "price",
          "price",
          "price",
          "price",
          "price",
          "price",
          "price",
          "price",
          "price",
          "price",
          "price",
          "price",
          "price",
          "price",
          "price",
          "price",
          "price",
          "price",
          "price",
          "price",
          "price",
          "price",
          "price",
          "price",
          "price",
          "price",
          "price",
          "price",
          "price",
          "price",
          "price",
          "price",
          "price",
          "price",
          "price",
          "price",
          "price",
          "price",
          "price",
          "price",
          "price",
          "price",
          "price",
          "price",
          "price",
          "price",
          "price",
          "price",
          "price",
          "price",
          "price",
          "price",
          "price",
          "price",
          "price",
          "price",
          "price",
          "price",
          "price",
          "price",
          "price",
          "price",
          "price",
          "price",
          "price",
          "price",
          "price",
          "price",
          "price",
          "price",
          "price",
          "price",
          "price",
          "price",
          "price",
          "price",
          "price",
          "price",
          "price",
          "price",
          "price",
          "price",
          "price",
          "price",
          "price",
          "price",
          "price",
          "price",
          "price",
          "price",
          "price",
          "price",
          "price",
          "price",
          "price",
          "price",
          "price",
          "price",
          "price",
          "price",
          "price",
          "price",
          "price",
          "price",
          "price",
          "price",
          "price",
          "price",
          "price",
          "price",
          "price",
          "price",
          "price",
          "price",
          "price",
          "price",
          "price",
          "price",
          "price",
          "price",
          "price",
          "price",
          "price",
          "price",
          "price"
         ],
         "x0": " ",
         "xaxis": "x",
         "y": {
          "bdata": "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",
          "dtype": "i4"
         },
         "y0": " ",
         "yaxis": "y"
        },
        {
         "alignmentgroup": "True",
         "hovertemplate": "Feature=%{x}<br>Value=%{y}<extra></extra>",
         "legendgroup": "area",
         "marker": {
          "color": "rgb(246, 207, 113)"
         },
         "name": "area",
         "notched": false,
         "offsetgroup": "area",
         "orientation": "v",
         "showlegend": true,
         "type": "box",
         "x": [
          "area",
          "area",
          "area",
          "area",
          "area",
          "area",
          "area",
          "area",
          "area",
          "area",
          "area",
          "area",
          "area",
          "area",
          "area",
          "area",
          "area",
          "area",
          "area",
          "area",
          "area",
          "area",
          "area",
          "area",
          "area",
          "area",
          "area",
          "area",
          "area",
          "area",
          "area",
          "area",
          "area",
          "area",
          "area",
          "area",
          "area",
          "area",
          "area",
          "area",
          "area",
          "area",
          "area",
          "area",
          "area",
          "area",
          "area",
          "area",
          "area",
          "area",
          "area",
          "area",
          "area",
          "area",
          "area",
          "area",
          "area",
          "area",
          "area",
          "area",
          "area",
          "area",
          "area",
          "area",
          "area",
          "area",
          "area",
          "area",
          "area",
          "area",
          "area",
          "area",
          "area",
          "area",
          "area",
          "area",
          "area",
          "area",
          "area",
          "area",
          "area",
          "area",
          "area",
          "area",
          "area",
          "area",
          "area",
          "area",
          "area",
          "area",
          "area",
          "area",
          "area",
          "area",
          "area",
          "area",
          "area",
          "area",
          "area",
          "area",
          "area",
          "area",
          "area",
          "area",
          "area",
          "area",
          "area",
          "area",
          "area",
          "area",
          "area",
          "area",
          "area",
          "area",
          "area",
          "area",
          "area",
          "area",
          "area",
          "area",
          "area",
          "area",
          "area",
          "area",
          "area",
          "area",
          "area",
          "area",
          "area",
          "area",
          "area",
          "area",
          "area",
          "area",
          "area",
          "area",
          "area",
          "area",
          "area",
          "area",
          "area",
          "area",
          "area",
          "area",
          "area",
          "area",
          "area",
          "area",
          "area",
          "area",
          "area",
          "area",
          "area",
          "area",
          "area",
          "area",
          "area",
          "area",
          "area",
          "area",
          "area",
          "area",
          "area",
          "area",
          "area",
          "area",
          "area",
          "area",
          "area",
          "area",
          "area",
          "area",
          "area",
          "area",
          "area",
          "area",
          "area",
          "area",
          "area",
          "area",
          "area",
          "area",
          "area",
          "area",
          "area",
          "area",
          "area",
          "area",
          "area",
          "area",
          "area",
          "area",
          "area",
          "area",
          "area",
          "area",
          "area",
          "area",
          "area",
          "area",
          "area",
          "area",
          "area",
          "area",
          "area",
          "area",
          "area",
          "area",
          "area",
          "area",
          "area",
          "area",
          "area",
          "area",
          "area",
          "area",
          "area",
          "area",
          "area",
          "area",
          "area",
          "area",
          "area",
          "area",
          "area",
          "area",
          "area",
          "area",
          "area",
          "area",
          "area",
          "area",
          "area",
          "area",
          "area",
          "area",
          "area",
          "area",
          "area",
          "area",
          "area",
          "area",
          "area",
          "area",
          "area",
          "area",
          "area",
          "area",
          "area",
          "area",
          "area",
          "area",
          "area",
          "area",
          "area",
          "area",
          "area",
          "area",
          "area",
          "area",
          "area",
          "area",
          "area",
          "area",
          "area",
          "area",
          "area",
          "area",
          "area",
          "area",
          "area",
          "area",
          "area",
          "area",
          "area",
          "area",
          "area",
          "area",
          "area",
          "area",
          "area",
          "area",
          "area",
          "area",
          "area",
          "area",
          "area",
          "area",
          "area",
          "area",
          "area",
          "area",
          "area",
          "area",
          "area",
          "area",
          "area",
          "area",
          "area",
          "area",
          "area",
          "area",
          "area",
          "area",
          "area",
          "area",
          "area",
          "area",
          "area",
          "area",
          "area",
          "area",
          "area",
          "area",
          "area",
          "area",
          "area",
          "area",
          "area",
          "area",
          "area",
          "area",
          "area",
          "area",
          "area",
          "area",
          "area",
          "area",
          "area",
          "area",
          "area",
          "area",
          "area",
          "area",
          "area",
          "area",
          "area",
          "area",
          "area",
          "area",
          "area",
          "area",
          "area",
          "area",
          "area",
          "area",
          "area",
          "area",
          "area",
          "area",
          "area",
          "area",
          "area",
          "area",
          "area",
          "area",
          "area",
          "area",
          "area",
          "area",
          "area",
          "area",
          "area",
          "area",
          "area",
          "area",
          "area",
          "area",
          "area",
          "area",
          "area",
          "area",
          "area",
          "area",
          "area",
          "area",
          "area",
          "area",
          "area",
          "area",
          "area",
          "area",
          "area",
          "area",
          "area",
          "area",
          "area",
          "area",
          "area",
          "area",
          "area",
          "area",
          "area",
          "area",
          "area",
          "area",
          "area",
          "area",
          "area",
          "area",
          "area",
          "area",
          "area",
          "area",
          "area",
          "area",
          "area",
          "area",
          "area",
          "area",
          "area",
          "area",
          "area",
          "area",
          "area",
          "area",
          "area",
          "area",
          "area",
          "area",
          "area",
          "area",
          "area",
          "area",
          "area",
          "area",
          "area",
          "area",
          "area",
          "area",
          "area",
          "area",
          "area",
          "area",
          "area",
          "area",
          "area",
          "area",
          "area",
          "area",
          "area",
          "area",
          "area",
          "area",
          "area",
          "area",
          "area",
          "area",
          "area",
          "area",
          "area",
          "area",
          "area",
          "area",
          "area",
          "area",
          "area",
          "area",
          "area",
          "area",
          "area",
          "area",
          "area",
          "area",
          "area",
          "area",
          "area",
          "area",
          "area",
          "area",
          "area",
          "area",
          "area",
          "area",
          "area",
          "area",
          "area",
          "area",
          "area",
          "area",
          "area",
          "area",
          "area",
          "area",
          "area",
          "area",
          "area",
          "area",
          "area",
          "area",
          "area",
          "area",
          "area",
          "area",
          "area",
          "area",
          "area",
          "area",
          "area",
          "area",
          "area",
          "area",
          "area",
          "area",
          "area",
          "area",
          "area",
          "area",
          "area",
          "area",
          "area",
          "area",
          "area",
          "area",
          "area",
          "area",
          "area",
          "area",
          "area",
          "area",
          "area",
          "area",
          "area",
          "area",
          "area",
          "area",
          "area",
          "area",
          "area",
          "area",
          "area",
          "area",
          "area",
          "area",
          "area",
          "area",
          "area",
          "area",
          "area",
          "area",
          "area",
          "area",
          "area",
          "area",
          "area"
         ],
         "x0": " ",
         "xaxis": "x",
         "y": {
          "bdata": "/BwAI+gmTB38HEwdhCFIP6QfdhaQM3AXlhmsDXgecBfIGTQh+BEUGeAQ8xtyH9ARYCKMGXAXqyIOH3wVMx1YGxATSBe4GlgbOh0oI3AXcBeWGdgYUBlwF3AXcBdwF8gZzBAQHRAdtRhwFx4UcBdwF7AsKCMAHnAXcBewImAY2BinK7AikDMUHnAXOi+gD3AXnBPIGcgPpBAUGWQZRBZwF3AXoA8EKXAXsA46IA4aeA/yHIQhiBNeGsASIBxwFwQQKCMAGcgZcBfIGXwVfBXOGHwVlBFKFRQZqAzXGcgZtCDMEJQlkBpAH/QadA4UGWwbjBk/HG4YmBx9GfA8+BtkGXwVxCzAEsQWUBTAElgbcBcYFSASiBPYGKgWBBoEKcASXBKIEwQpfBXYGMgZEBQwERgV5AxCDtQX9BoBCywfTgxCGNQXyBmpGjYaMhl4HvgRpBCMGXwVHSjQILQU2A5IJkghohetG2wMlBEgHFINLB+4C7gLkizUF1gW1A2wHcwpyBnAEtYfOhEGHvAKPBdoEKgR/w8YEBgVohKcGKgWuAuaC0AaJhJkMlwNgxP+EEAQmBfOGs8SWBukH1wNziOxGAAoKBkyFHAXLg7DJRgV4BChDkAQKA8wFjYLkhOeEaAPAA+wDjgO9gnIFPAUwA3QIAQQfhO2DXoNhCbADZ4R/RagDzogyA/YGFoMtg2mDoAPJBNACxATOBNWEzwPlBFxB+sPrA0yGcAPMBF4KEgN2BjYGJQRfwgIEVoe+hnjCnwVsBPaFjIKiQu7CjoRoA8VCfgROA6oFlgb7w/ADWEIlBE6IHoN6BLwD84PGBJhF6wXEA5gDsgP4BUMF4AT9BC4C+AQLg6EDRgVlBGEDQQQUBmUEXgP0g9cHHwVuAvaDOgOkB9hCMQObAy0FGwM8BvwDwoP3weACBYNTgzUElwNEA7GFigL0CA6INgJEhuYDRAOyA+EF9IPAA4wDEoVLg4uDggWEA64EPINbAy4C8ANSBciECIL4wjADZQRoA9ODJQRlBE4DgoPkBBCDvgRVwjcC5YPAB2YDRAOOA4MFzAMthy4DRwl+BaQMiQT9AvIFGEIoA9xDAoPYQgyCp4HyA+xEnoNOA6sDWATGBCOEogOpg4cDHEMjAphCMgPpxLECWwMrBeYDdAOyA9hCPgWlBFaDzgOEhF8CuAQMAx6DZIPrA3/D3IGeg1eGigj/QuUEXcVXgm4CwoPrA2kH2ATcAgSDJQR2A4SDKgMEwv4EdQTpg4uDnIfABG4C9oWYBMQDkwOmA2MCk4M1xngCy4OcBcYFVAU5Az+EFAKWgp4D5AaoA+gD14P0AcuDvAKfgmYDaAPcQygD14LEA4wERAOQAtsDLgLMBG4C4oMqAy4C6wN6BIUHjMOqwnjCsAMOA5sDCwHgg+CD54HtBS4C2AJuAsgDVwNpAZBDq4LuAtgCSQOXgsKDw==",
          "dtype": "i2"
         },
         "y0": " ",
         "yaxis": "y"
        },
        {
         "alignmentgroup": "True",
         "hovertemplate": "Feature=%{x}<br>Value=%{y}<extra></extra>",
         "legendgroup": "bedrooms",
         "marker": {
          "color": "rgb(248, 156, 116)"
         },
         "name": "bedrooms",
         "notched": false,
         "offsetgroup": "bedrooms",
         "orientation": "v",
         "showlegend": true,
         "type": "box",
         "x": [
          "bedrooms",
          "bedrooms",
          "bedrooms",
          "bedrooms",
          "bedrooms",
          "bedrooms",
          "bedrooms",
          "bedrooms",
          "bedrooms",
          "bedrooms",
          "bedrooms",
          "bedrooms",
          "bedrooms",
          "bedrooms",
          "bedrooms",
          "bedrooms",
          "bedrooms",
          "bedrooms",
          "bedrooms",
          "bedrooms",
          "bedrooms",
          "bedrooms",
          "bedrooms",
          "bedrooms",
          "bedrooms",
          "bedrooms",
          "bedrooms",
          "bedrooms",
          "bedrooms",
          "bedrooms",
          "bedrooms",
          "bedrooms",
          "bedrooms",
          "bedrooms",
          "bedrooms",
          "bedrooms",
          "bedrooms",
          "bedrooms",
          "bedrooms",
          "bedrooms",
          "bedrooms",
          "bedrooms",
          "bedrooms",
          "bedrooms",
          "bedrooms",
          "bedrooms",
          "bedrooms",
          "bedrooms",
          "bedrooms",
          "bedrooms",
          "bedrooms",
          "bedrooms",
          "bedrooms",
          "bedrooms",
          "bedrooms",
          "bedrooms",
          "bedrooms",
          "bedrooms",
          "bedrooms",
          "bedrooms",
          "bedrooms",
          "bedrooms",
          "bedrooms",
          "bedrooms",
          "bedrooms",
          "bedrooms",
          "bedrooms",
          "bedrooms",
          "bedrooms",
          "bedrooms",
          "bedrooms",
          "bedrooms",
          "bedrooms",
          "bedrooms",
          "bedrooms",
          "bedrooms",
          "bedrooms",
          "bedrooms",
          "bedrooms",
          "bedrooms",
          "bedrooms",
          "bedrooms",
          "bedrooms",
          "bedrooms",
          "bedrooms",
          "bedrooms",
          "bedrooms",
          "bedrooms",
          "bedrooms",
          "bedrooms",
          "bedrooms",
          "bedrooms",
          "bedrooms",
          "bedrooms",
          "bedrooms",
          "bedrooms",
          "bedrooms",
          "bedrooms",
          "bedrooms",
          "bedrooms",
          "bedrooms",
          "bedrooms",
          "bedrooms",
          "bedrooms",
          "bedrooms",
          "bedrooms",
          "bedrooms",
          "bedrooms",
          "bedrooms",
          "bedrooms",
          "bedrooms",
          "bedrooms",
          "bedrooms",
          "bedrooms",
          "bedrooms",
          "bedrooms",
          "bedrooms",
          "bedrooms",
          "bedrooms",
          "bedrooms",
          "bedrooms",
          "bedrooms",
          "bedrooms",
          "bedrooms",
          "bedrooms",
          "bedrooms",
          "bedrooms",
          "bedrooms",
          "bedrooms",
          "bedrooms",
          "bedrooms",
          "bedrooms",
          "bedrooms",
          "bedrooms",
          "bedrooms",
          "bedrooms",
          "bedrooms",
          "bedrooms",
          "bedrooms",
          "bedrooms",
          "bedrooms",
          "bedrooms",
          "bedrooms",
          "bedrooms",
          "bedrooms",
          "bedrooms",
          "bedrooms",
          "bedrooms",
          "bedrooms",
          "bedrooms",
          "bedrooms",
          "bedrooms",
          "bedrooms",
          "bedrooms",
          "bedrooms",
          "bedrooms",
          "bedrooms",
          "bedrooms",
          "bedrooms",
          "bedrooms",
          "bedrooms",
          "bedrooms",
          "bedrooms",
          "bedrooms",
          "bedrooms",
          "bedrooms",
          "bedrooms",
          "bedrooms",
          "bedrooms",
          "bedrooms",
          "bedrooms",
          "bedrooms",
          "bedrooms",
          "bedrooms",
          "bedrooms",
          "bedrooms",
          "bedrooms",
          "bedrooms",
          "bedrooms",
          "bedrooms",
          "bedrooms",
          "bedrooms",
          "bedrooms",
          "bedrooms",
          "bedrooms",
          "bedrooms",
          "bedrooms",
          "bedrooms",
          "bedrooms",
          "bedrooms",
          "bedrooms",
          "bedrooms",
          "bedrooms",
          "bedrooms",
          "bedrooms",
          "bedrooms",
          "bedrooms",
          "bedrooms",
          "bedrooms",
          "bedrooms",
          "bedrooms",
          "bedrooms",
          "bedrooms",
          "bedrooms",
          "bedrooms",
          "bedrooms",
          "bedrooms",
          "bedrooms",
          "bedrooms",
          "bedrooms",
          "bedrooms",
          "bedrooms",
          "bedrooms",
          "bedrooms",
          "bedrooms",
          "bedrooms",
          "bedrooms",
          "bedrooms",
          "bedrooms",
          "bedrooms",
          "bedrooms",
          "bedrooms",
          "bedrooms",
          "bedrooms",
          "bedrooms",
          "bedrooms",
          "bedrooms",
          "bedrooms",
          "bedrooms",
          "bedrooms",
          "bedrooms",
          "bedrooms",
          "bedrooms",
          "bedrooms",
          "bedrooms",
          "bedrooms",
          "bedrooms",
          "bedrooms",
          "bedrooms",
          "bedrooms",
          "bedrooms",
          "bedrooms",
          "bedrooms",
          "bedrooms",
          "bedrooms",
          "bedrooms",
          "bedrooms",
          "bedrooms",
          "bedrooms",
          "bedrooms",
          "bedrooms",
          "bedrooms",
          "bedrooms",
          "bedrooms",
          "bedrooms",
          "bedrooms",
          "bedrooms",
          "bedrooms",
          "bedrooms",
          "bedrooms",
          "bedrooms",
          "bedrooms",
          "bedrooms",
          "bedrooms",
          "bedrooms",
          "bedrooms",
          "bedrooms",
          "bedrooms",
          "bedrooms",
          "bedrooms",
          "bedrooms",
          "bedrooms",
          "bedrooms",
          "bedrooms",
          "bedrooms",
          "bedrooms",
          "bedrooms",
          "bedrooms",
          "bedrooms",
          "bedrooms",
          "bedrooms",
          "bedrooms",
          "bedrooms",
          "bedrooms",
          "bedrooms",
          "bedrooms",
          "bedrooms",
          "bedrooms",
          "bedrooms",
          "bedrooms",
          "bedrooms",
          "bedrooms",
          "bedrooms",
          "bedrooms",
          "bedrooms",
          "bedrooms",
          "bedrooms",
          "bedrooms",
          "bedrooms",
          "bedrooms",
          "bedrooms",
          "bedrooms",
          "bedrooms",
          "bedrooms",
          "bedrooms",
          "bedrooms",
          "bedrooms",
          "bedrooms",
          "bedrooms",
          "bedrooms",
          "bedrooms",
          "bedrooms",
          "bedrooms",
          "bedrooms",
          "bedrooms",
          "bedrooms",
          "bedrooms",
          "bedrooms",
          "bedrooms",
          "bedrooms",
          "bedrooms",
          "bedrooms",
          "bedrooms",
          "bedrooms",
          "bedrooms",
          "bedrooms",
          "bedrooms",
          "bedrooms",
          "bedrooms",
          "bedrooms",
          "bedrooms",
          "bedrooms",
          "bedrooms",
          "bedrooms",
          "bedrooms",
          "bedrooms",
          "bedrooms",
          "bedrooms",
          "bedrooms",
          "bedrooms",
          "bedrooms",
          "bedrooms",
          "bedrooms",
          "bedrooms",
          "bedrooms",
          "bedrooms",
          "bedrooms",
          "bedrooms",
          "bedrooms",
          "bedrooms",
          "bedrooms",
          "bedrooms",
          "bedrooms",
          "bedrooms",
          "bedrooms",
          "bedrooms",
          "bedrooms",
          "bedrooms",
          "bedrooms",
          "bedrooms",
          "bedrooms",
          "bedrooms",
          "bedrooms",
          "bedrooms",
          "bedrooms",
          "bedrooms",
          "bedrooms",
          "bedrooms",
          "bedrooms",
          "bedrooms",
          "bedrooms",
          "bedrooms",
          "bedrooms",
          "bedrooms",
          "bedrooms",
          "bedrooms",
          "bedrooms",
          "bedrooms",
          "bedrooms",
          "bedrooms",
          "bedrooms",
          "bedrooms",
          "bedrooms",
          "bedrooms",
          "bedrooms",
          "bedrooms",
          "bedrooms",
          "bedrooms",
          "bedrooms",
          "bedrooms",
          "bedrooms",
          "bedrooms",
          "bedrooms",
          "bedrooms",
          "bedrooms",
          "bedrooms",
          "bedrooms",
          "bedrooms",
          "bedrooms",
          "bedrooms",
          "bedrooms",
          "bedrooms",
          "bedrooms",
          "bedrooms",
          "bedrooms",
          "bedrooms",
          "bedrooms",
          "bedrooms",
          "bedrooms",
          "bedrooms",
          "bedrooms",
          "bedrooms",
          "bedrooms",
          "bedrooms",
          "bedrooms",
          "bedrooms",
          "bedrooms",
          "bedrooms",
          "bedrooms",
          "bedrooms",
          "bedrooms",
          "bedrooms",
          "bedrooms",
          "bedrooms",
          "bedrooms",
          "bedrooms",
          "bedrooms",
          "bedrooms",
          "bedrooms",
          "bedrooms",
          "bedrooms",
          "bedrooms",
          "bedrooms",
          "bedrooms",
          "bedrooms",
          "bedrooms",
          "bedrooms",
          "bedrooms",
          "bedrooms",
          "bedrooms",
          "bedrooms",
          "bedrooms",
          "bedrooms",
          "bedrooms",
          "bedrooms",
          "bedrooms",
          "bedrooms",
          "bedrooms",
          "bedrooms",
          "bedrooms",
          "bedrooms",
          "bedrooms",
          "bedrooms",
          "bedrooms",
          "bedrooms",
          "bedrooms",
          "bedrooms",
          "bedrooms",
          "bedrooms",
          "bedrooms",
          "bedrooms",
          "bedrooms",
          "bedrooms",
          "bedrooms",
          "bedrooms",
          "bedrooms",
          "bedrooms",
          "bedrooms",
          "bedrooms",
          "bedrooms",
          "bedrooms",
          "bedrooms",
          "bedrooms",
          "bedrooms",
          "bedrooms",
          "bedrooms",
          "bedrooms",
          "bedrooms",
          "bedrooms",
          "bedrooms",
          "bedrooms",
          "bedrooms",
          "bedrooms",
          "bedrooms",
          "bedrooms",
          "bedrooms",
          "bedrooms",
          "bedrooms",
          "bedrooms",
          "bedrooms",
          "bedrooms",
          "bedrooms",
          "bedrooms",
          "bedrooms",
          "bedrooms",
          "bedrooms",
          "bedrooms",
          "bedrooms",
          "bedrooms",
          "bedrooms",
          "bedrooms",
          "bedrooms",
          "bedrooms",
          "bedrooms",
          "bedrooms",
          "bedrooms",
          "bedrooms",
          "bedrooms",
          "bedrooms",
          "bedrooms",
          "bedrooms",
          "bedrooms",
          "bedrooms",
          "bedrooms",
          "bedrooms",
          "bedrooms",
          "bedrooms",
          "bedrooms",
          "bedrooms",
          "bedrooms",
          "bedrooms",
          "bedrooms",
          "bedrooms",
          "bedrooms",
          "bedrooms",
          "bedrooms",
          "bedrooms",
          "bedrooms",
          "bedrooms",
          "bedrooms",
          "bedrooms",
          "bedrooms",
          "bedrooms",
          "bedrooms",
          "bedrooms",
          "bedrooms",
          "bedrooms",
          "bedrooms",
          "bedrooms",
          "bedrooms",
          "bedrooms",
          "bedrooms",
          "bedrooms",
          "bedrooms",
          "bedrooms"
         ],
         "x0": " ",
         "xaxis": "x",
         "y": {
          "bdata": "BAQDBAQDBAUEAwMEBAQDBAQDAwMDAwMDAwQDAwUEAwMEAwUDAwQDBAMDAwQEAwMDAwMDAwQDAwMEBAQDAwIEBAMDAgMDBAMEAwIDBAMDAwMDAwMDAwMDAwMFAwIDAwQDAwMDBAMDAwMDAwQDBAQDAwYDAgMDBAMDAwMEBAMDAwMDAwMEAwMDAwQEAwMDBAQFBAMCAwMEAwQFAwMDAwQDAwQDBAMDAwMCBAQDAwMEAwQDAwMDBAMDAwMDAgMCAgQDAwIDBAMDAwMDAwIEAwMCAwMDAwMEBAIDAwMCAwQEAgMCAgMCAwQCAwMDAwMCAwQDAwMDAwMDAwQCBAMDAwIEAgMDAwIDAwIDAgMDAwQDAwUDBAQCAgIDAgICAwQCAwMDAwIEAwQCBAMDAwMDAwMDAwMDAwMDBAMCAwMCAgQDAwQDAwMDAwQEAwMDAgMEAwICAwQCBAUCAwICAwIDAgMCAgIDAgMFBAIDAgMCAgMCAgICAgIDAwICAwMDAwMCAgMEAgIDAwMEAwMDAwMGAgIDAgIDAgMDAwIDAgIDAwMDAgMDAgQEAgICAwMCAwMCBAIEAwQEAgMDAgIEAwIDAwECAgIDAwIDAgMDAwMDAgICAwICAgMDAgIDAwQCBAIDAgMEAwIDAwICAgQEAwMCAwMCAwICAgMDAwIDAgMCAgICAwMCAwMDAgICAgICAwQCAgICAQMDAwIDBAIFAwICAgMCAwM=",
          "dtype": "i1"
         },
         "y0": " ",
         "yaxis": "y"
        },
        {
         "alignmentgroup": "True",
         "hovertemplate": "Feature=%{x}<br>Value=%{y}<extra></extra>",
         "legendgroup": "bathrooms",
         "marker": {
          "color": "rgb(220, 176, 242)"
         },
         "name": "bathrooms",
         "notched": false,
         "offsetgroup": "bathrooms",
         "orientation": "v",
         "showlegend": true,
         "type": "box",
         "x": [
          "bathrooms",
          "bathrooms",
          "bathrooms",
          "bathrooms",
          "bathrooms",
          "bathrooms",
          "bathrooms",
          "bathrooms",
          "bathrooms",
          "bathrooms",
          "bathrooms",
          "bathrooms",
          "bathrooms",
          "bathrooms",
          "bathrooms",
          "bathrooms",
          "bathrooms",
          "bathrooms",
          "bathrooms",
          "bathrooms",
          "bathrooms",
          "bathrooms",
          "bathrooms",
          "bathrooms",
          "bathrooms",
          "bathrooms",
          "bathrooms",
          "bathrooms",
          "bathrooms",
          "bathrooms",
          "bathrooms",
          "bathrooms",
          "bathrooms",
          "bathrooms",
          "bathrooms",
          "bathrooms",
          "bathrooms",
          "bathrooms",
          "bathrooms",
          "bathrooms",
          "bathrooms",
          "bathrooms",
          "bathrooms",
          "bathrooms",
          "bathrooms",
          "bathrooms",
          "bathrooms",
          "bathrooms",
          "bathrooms",
          "bathrooms",
          "bathrooms",
          "bathrooms",
          "bathrooms",
          "bathrooms",
          "bathrooms",
          "bathrooms",
          "bathrooms",
          "bathrooms",
          "bathrooms",
          "bathrooms",
          "bathrooms",
          "bathrooms",
          "bathrooms",
          "bathrooms",
          "bathrooms",
          "bathrooms",
          "bathrooms",
          "bathrooms",
          "bathrooms",
          "bathrooms",
          "bathrooms",
          "bathrooms",
          "bathrooms",
          "bathrooms",
          "bathrooms",
          "bathrooms",
          "bathrooms",
          "bathrooms",
          "bathrooms",
          "bathrooms",
          "bathrooms",
          "bathrooms",
          "bathrooms",
          "bathrooms",
          "bathrooms",
          "bathrooms",
          "bathrooms",
          "bathrooms",
          "bathrooms",
          "bathrooms",
          "bathrooms",
          "bathrooms",
          "bathrooms",
          "bathrooms",
          "bathrooms",
          "bathrooms",
          "bathrooms",
          "bathrooms",
          "bathrooms",
          "bathrooms",
          "bathrooms",
          "bathrooms",
          "bathrooms",
          "bathrooms",
          "bathrooms",
          "bathrooms",
          "bathrooms",
          "bathrooms",
          "bathrooms",
          "bathrooms",
          "bathrooms",
          "bathrooms",
          "bathrooms",
          "bathrooms",
          "bathrooms",
          "bathrooms",
          "bathrooms",
          "bathrooms",
          "bathrooms",
          "bathrooms",
          "bathrooms",
          "bathrooms",
          "bathrooms",
          "bathrooms",
          "bathrooms",
          "bathrooms",
          "bathrooms",
          "bathrooms",
          "bathrooms",
          "bathrooms",
          "bathrooms",
          "bathrooms",
          "bathrooms",
          "bathrooms",
          "bathrooms",
          "bathrooms",
          "bathrooms",
          "bathrooms",
          "bathrooms",
          "bathrooms",
          "bathrooms",
          "bathrooms",
          "bathrooms",
          "bathrooms",
          "bathrooms",
          "bathrooms",
          "bathrooms",
          "bathrooms",
          "bathrooms",
          "bathrooms",
          "bathrooms",
          "bathrooms",
          "bathrooms",
          "bathrooms",
          "bathrooms",
          "bathrooms",
          "bathrooms",
          "bathrooms",
          "bathrooms",
          "bathrooms",
          "bathrooms",
          "bathrooms",
          "bathrooms",
          "bathrooms",
          "bathrooms",
          "bathrooms",
          "bathrooms",
          "bathrooms",
          "bathrooms",
          "bathrooms",
          "bathrooms",
          "bathrooms",
          "bathrooms",
          "bathrooms",
          "bathrooms",
          "bathrooms",
          "bathrooms",
          "bathrooms",
          "bathrooms",
          "bathrooms",
          "bathrooms",
          "bathrooms",
          "bathrooms",
          "bathrooms",
          "bathrooms",
          "bathrooms",
          "bathrooms",
          "bathrooms",
          "bathrooms",
          "bathrooms",
          "bathrooms",
          "bathrooms",
          "bathrooms",
          "bathrooms",
          "bathrooms",
          "bathrooms",
          "bathrooms",
          "bathrooms",
          "bathrooms",
          "bathrooms",
          "bathrooms",
          "bathrooms",
          "bathrooms",
          "bathrooms",
          "bathrooms",
          "bathrooms",
          "bathrooms",
          "bathrooms",
          "bathrooms",
          "bathrooms",
          "bathrooms",
          "bathrooms",
          "bathrooms",
          "bathrooms",
          "bathrooms",
          "bathrooms",
          "bathrooms",
          "bathrooms",
          "bathrooms",
          "bathrooms",
          "bathrooms",
          "bathrooms",
          "bathrooms",
          "bathrooms",
          "bathrooms",
          "bathrooms",
          "bathrooms",
          "bathrooms",
          "bathrooms",
          "bathrooms",
          "bathrooms",
          "bathrooms",
          "bathrooms",
          "bathrooms",
          "bathrooms",
          "bathrooms",
          "bathrooms",
          "bathrooms",
          "bathrooms",
          "bathrooms",
          "bathrooms",
          "bathrooms",
          "bathrooms",
          "bathrooms",
          "bathrooms",
          "bathrooms",
          "bathrooms",
          "bathrooms",
          "bathrooms",
          "bathrooms",
          "bathrooms",
          "bathrooms",
          "bathrooms",
          "bathrooms",
          "bathrooms",
          "bathrooms",
          "bathrooms",
          "bathrooms",
          "bathrooms",
          "bathrooms",
          "bathrooms",
          "bathrooms",
          "bathrooms",
          "bathrooms",
          "bathrooms",
          "bathrooms",
          "bathrooms",
          "bathrooms",
          "bathrooms",
          "bathrooms",
          "bathrooms",
          "bathrooms",
          "bathrooms",
          "bathrooms",
          "bathrooms",
          "bathrooms",
          "bathrooms",
          "bathrooms",
          "bathrooms",
          "bathrooms",
          "bathrooms",
          "bathrooms",
          "bathrooms",
          "bathrooms",
          "bathrooms",
          "bathrooms",
          "bathrooms",
          "bathrooms",
          "bathrooms",
          "bathrooms",
          "bathrooms",
          "bathrooms",
          "bathrooms",
          "bathrooms",
          "bathrooms",
          "bathrooms",
          "bathrooms",
          "bathrooms",
          "bathrooms",
          "bathrooms",
          "bathrooms",
          "bathrooms",
          "bathrooms",
          "bathrooms",
          "bathrooms",
          "bathrooms",
          "bathrooms",
          "bathrooms",
          "bathrooms",
          "bathrooms",
          "bathrooms",
          "bathrooms",
          "bathrooms",
          "bathrooms",
          "bathrooms",
          "bathrooms",
          "bathrooms",
          "bathrooms",
          "bathrooms",
          "bathrooms",
          "bathrooms",
          "bathrooms",
          "bathrooms",
          "bathrooms",
          "bathrooms",
          "bathrooms",
          "bathrooms",
          "bathrooms",
          "bathrooms",
          "bathrooms",
          "bathrooms",
          "bathrooms",
          "bathrooms",
          "bathrooms",
          "bathrooms",
          "bathrooms",
          "bathrooms",
          "bathrooms",
          "bathrooms",
          "bathrooms",
          "bathrooms",
          "bathrooms",
          "bathrooms",
          "bathrooms",
          "bathrooms",
          "bathrooms",
          "bathrooms",
          "bathrooms",
          "bathrooms",
          "bathrooms",
          "bathrooms",
          "bathrooms",
          "bathrooms",
          "bathrooms",
          "bathrooms",
          "bathrooms",
          "bathrooms",
          "bathrooms",
          "bathrooms",
          "bathrooms",
          "bathrooms",
          "bathrooms",
          "bathrooms",
          "bathrooms",
          "bathrooms",
          "bathrooms",
          "bathrooms",
          "bathrooms",
          "bathrooms",
          "bathrooms",
          "bathrooms",
          "bathrooms",
          "bathrooms",
          "bathrooms",
          "bathrooms",
          "bathrooms",
          "bathrooms",
          "bathrooms",
          "bathrooms",
          "bathrooms",
          "bathrooms",
          "bathrooms",
          "bathrooms",
          "bathrooms",
          "bathrooms",
          "bathrooms",
          "bathrooms",
          "bathrooms",
          "bathrooms",
          "bathrooms",
          "bathrooms",
          "bathrooms",
          "bathrooms",
          "bathrooms",
          "bathrooms",
          "bathrooms",
          "bathrooms",
          "bathrooms",
          "bathrooms",
          "bathrooms",
          "bathrooms",
          "bathrooms",
          "bathrooms",
          "bathrooms",
          "bathrooms",
          "bathrooms",
          "bathrooms",
          "bathrooms",
          "bathrooms",
          "bathrooms",
          "bathrooms",
          "bathrooms",
          "bathrooms",
          "bathrooms",
          "bathrooms",
          "bathrooms",
          "bathrooms",
          "bathrooms",
          "bathrooms",
          "bathrooms",
          "bathrooms",
          "bathrooms",
          "bathrooms",
          "bathrooms",
          "bathrooms",
          "bathrooms",
          "bathrooms",
          "bathrooms",
          "bathrooms",
          "bathrooms",
          "bathrooms",
          "bathrooms",
          "bathrooms",
          "bathrooms",
          "bathrooms",
          "bathrooms",
          "bathrooms",
          "bathrooms",
          "bathrooms",
          "bathrooms",
          "bathrooms",
          "bathrooms",
          "bathrooms",
          "bathrooms",
          "bathrooms",
          "bathrooms",
          "bathrooms",
          "bathrooms",
          "bathrooms",
          "bathrooms",
          "bathrooms",
          "bathrooms",
          "bathrooms",
          "bathrooms",
          "bathrooms",
          "bathrooms",
          "bathrooms",
          "bathrooms",
          "bathrooms",
          "bathrooms",
          "bathrooms",
          "bathrooms",
          "bathrooms",
          "bathrooms",
          "bathrooms",
          "bathrooms",
          "bathrooms",
          "bathrooms",
          "bathrooms",
          "bathrooms",
          "bathrooms",
          "bathrooms",
          "bathrooms",
          "bathrooms",
          "bathrooms",
          "bathrooms",
          "bathrooms",
          "bathrooms",
          "bathrooms",
          "bathrooms",
          "bathrooms",
          "bathrooms",
          "bathrooms",
          "bathrooms",
          "bathrooms",
          "bathrooms",
          "bathrooms",
          "bathrooms",
          "bathrooms",
          "bathrooms",
          "bathrooms",
          "bathrooms",
          "bathrooms",
          "bathrooms",
          "bathrooms",
          "bathrooms",
          "bathrooms",
          "bathrooms",
          "bathrooms",
          "bathrooms",
          "bathrooms",
          "bathrooms",
          "bathrooms",
          "bathrooms",
          "bathrooms",
          "bathrooms",
          "bathrooms",
          "bathrooms",
          "bathrooms",
          "bathrooms",
          "bathrooms",
          "bathrooms",
          "bathrooms",
          "bathrooms",
          "bathrooms",
          "bathrooms",
          "bathrooms",
          "bathrooms",
          "bathrooms",
          "bathrooms",
          "bathrooms",
          "bathrooms",
          "bathrooms",
          "bathrooms",
          "bathrooms",
          "bathrooms",
          "bathrooms",
          "bathrooms",
          "bathrooms",
          "bathrooms",
          "bathrooms",
          "bathrooms",
          "bathrooms",
          "bathrooms",
          "bathrooms",
          "bathrooms",
          "bathrooms",
          "bathrooms",
          "bathrooms",
          "bathrooms",
          "bathrooms",
          "bathrooms",
          "bathrooms",
          "bathrooms",
          "bathrooms"
         ],
         "x0": " ",
         "xaxis": "x",
         "y": {
          "bdata": "AgQCAgEDAwMBAgEDAgICAQICAgIBAgECAgICAQICAgECAwECAgIBAgECAgICAgIBAgICAQICAgEBAgICAgECAgECAQIBAgICAQIBAgICAQIBAgICAQIBAQEDAQECAgICAQECAQIBAgICAQIBAQIBAQIBAQECAQEBAQECAgIBAQIBAQEBAQEBAgIBAQECAgICAQEBAgECAQEBAwICAQIBAgEBAgECAgECAQICAQECAQIBAQECAgEBAQIBAQEBAQEBAQECAwECAQEBAQEBAQEBAQEBAQECAgEBAQEBAQECAQEBAQEBAQIBAQEBAgEBAQIBAQEBAQEBAQECAgEBAQEBAQEBAQEBAQEBAQEBAQEBAgEBAQEBAQEBAQEBAQEBAQEBAQEDAQIBAgECAgEBAQEBAQEBAQEBAQEBAQIBAQICAQEBAgIBAQEBAQIBAQIBAQEBAQIBAgICAQEBAQEBAgEBAQEBAQECAQEBAQEBAQEBAQEBAQEBAQECAQICAQEBAQECAQEBAQEBAgEBAQEBAQEBAQEBAQEBAQEBAQEBAQECAQEBAQEBAQEBAQEBAQEBAQEBAQEBAQEBAQEBAQEBAQECAQEBAQEBAQEBAQEBAQEBAQEBAQEBAQEBAQEBAQEBAQEBAQEBAQEBAQEBAQEBAQEBAQEBAQMBAQEBAQEBAQECAQEBAQEBAQEBAQEBAQIBAQEBAQEBAQEBAQEBAQEBAQEBAQE=",
          "dtype": "i1"
         },
         "y0": " ",
         "yaxis": "y"
        },
        {
         "alignmentgroup": "True",
         "hovertemplate": "Feature=%{x}<br>Value=%{y}<extra></extra>",
         "legendgroup": "stories",
         "marker": {
          "color": "rgb(135, 197, 95)"
         },
         "name": "stories",
         "notched": false,
         "offsetgroup": "stories",
         "orientation": "v",
         "showlegend": true,
         "type": "box",
         "x": [
          "stories",
          "stories",
          "stories",
          "stories",
          "stories",
          "stories",
          "stories",
          "stories",
          "stories",
          "stories",
          "stories",
          "stories",
          "stories",
          "stories",
          "stories",
          "stories",
          "stories",
          "stories",
          "stories",
          "stories",
          "stories",
          "stories",
          "stories",
          "stories",
          "stories",
          "stories",
          "stories",
          "stories",
          "stories",
          "stories",
          "stories",
          "stories",
          "stories",
          "stories",
          "stories",
          "stories",
          "stories",
          "stories",
          "stories",
          "stories",
          "stories",
          "stories",
          "stories",
          "stories",
          "stories",
          "stories",
          "stories",
          "stories",
          "stories",
          "stories",
          "stories",
          "stories",
          "stories",
          "stories",
          "stories",
          "stories",
          "stories",
          "stories",
          "stories",
          "stories",
          "stories",
          "stories",
          "stories",
          "stories",
          "stories",
          "stories",
          "stories",
          "stories",
          "stories",
          "stories",
          "stories",
          "stories",
          "stories",
          "stories",
          "stories",
          "stories",
          "stories",
          "stories",
          "stories",
          "stories",
          "stories",
          "stories",
          "stories",
          "stories",
          "stories",
          "stories",
          "stories",
          "stories",
          "stories",
          "stories",
          "stories",
          "stories",
          "stories",
          "stories",
          "stories",
          "stories",
          "stories",
          "stories",
          "stories",
          "stories",
          "stories",
          "stories",
          "stories",
          "stories",
          "stories",
          "stories",
          "stories",
          "stories",
          "stories",
          "stories",
          "stories",
          "stories",
          "stories",
          "stories",
          "stories",
          "stories",
          "stories",
          "stories",
          "stories",
          "stories",
          "stories",
          "stories",
          "stories",
          "stories",
          "stories",
          "stories",
          "stories",
          "stories",
          "stories",
          "stories",
          "stories",
          "stories",
          "stories",
          "stories",
          "stories",
          "stories",
          "stories",
          "stories",
          "stories",
          "stories",
          "stories",
          "stories",
          "stories",
          "stories",
          "stories",
          "stories",
          "stories",
          "stories",
          "stories",
          "stories",
          "stories",
          "stories",
          "stories",
          "stories",
          "stories",
          "stories",
          "stories",
          "stories",
          "stories",
          "stories",
          "stories",
          "stories",
          "stories",
          "stories",
          "stories",
          "stories",
          "stories",
          "stories",
          "stories",
          "stories",
          "stories",
          "stories",
          "stories",
          "stories",
          "stories",
          "stories",
          "stories",
          "stories",
          "stories",
          "stories",
          "stories",
          "stories",
          "stories",
          "stories",
          "stories",
          "stories",
          "stories",
          "stories",
          "stories",
          "stories",
          "stories",
          "stories",
          "stories",
          "stories",
          "stories",
          "stories",
          "stories",
          "stories",
          "stories",
          "stories",
          "stories",
          "stories",
          "stories",
          "stories",
          "stories",
          "stories",
          "stories",
          "stories",
          "stories",
          "stories",
          "stories",
          "stories",
          "stories",
          "stories",
          "stories",
          "stories",
          "stories",
          "stories",
          "stories",
          "stories",
          "stories",
          "stories",
          "stories",
          "stories",
          "stories",
          "stories",
          "stories",
          "stories",
          "stories",
          "stories",
          "stories",
          "stories",
          "stories",
          "stories",
          "stories",
          "stories",
          "stories",
          "stories",
          "stories",
          "stories",
          "stories",
          "stories",
          "stories",
          "stories",
          "stories",
          "stories",
          "stories",
          "stories",
          "stories",
          "stories",
          "stories",
          "stories",
          "stories",
          "stories",
          "stories",
          "stories",
          "stories",
          "stories",
          "stories",
          "stories",
          "stories",
          "stories",
          "stories",
          "stories",
          "stories",
          "stories",
          "stories",
          "stories",
          "stories",
          "stories",
          "stories",
          "stories",
          "stories",
          "stories",
          "stories",
          "stories",
          "stories",
          "stories",
          "stories",
          "stories",
          "stories",
          "stories",
          "stories",
          "stories",
          "stories",
          "stories",
          "stories",
          "stories",
          "stories",
          "stories",
          "stories",
          "stories",
          "stories",
          "stories",
          "stories",
          "stories",
          "stories",
          "stories",
          "stories",
          "stories",
          "stories",
          "stories",
          "stories",
          "stories",
          "stories",
          "stories",
          "stories",
          "stories",
          "stories",
          "stories",
          "stories",
          "stories",
          "stories",
          "stories",
          "stories",
          "stories",
          "stories",
          "stories",
          "stories",
          "stories",
          "stories",
          "stories",
          "stories",
          "stories",
          "stories",
          "stories",
          "stories",
          "stories",
          "stories",
          "stories",
          "stories",
          "stories",
          "stories",
          "stories",
          "stories",
          "stories",
          "stories",
          "stories",
          "stories",
          "stories",
          "stories",
          "stories",
          "stories",
          "stories",
          "stories",
          "stories",
          "stories",
          "stories",
          "stories",
          "stories",
          "stories",
          "stories",
          "stories",
          "stories",
          "stories",
          "stories",
          "stories",
          "stories",
          "stories",
          "stories",
          "stories",
          "stories",
          "stories",
          "stories",
          "stories",
          "stories",
          "stories",
          "stories",
          "stories",
          "stories",
          "stories",
          "stories",
          "stories",
          "stories",
          "stories",
          "stories",
          "stories",
          "stories",
          "stories",
          "stories",
          "stories",
          "stories",
          "stories",
          "stories",
          "stories",
          "stories",
          "stories",
          "stories",
          "stories",
          "stories",
          "stories",
          "stories",
          "stories",
          "stories",
          "stories",
          "stories",
          "stories",
          "stories",
          "stories",
          "stories",
          "stories",
          "stories",
          "stories",
          "stories",
          "stories",
          "stories",
          "stories",
          "stories",
          "stories",
          "stories",
          "stories",
          "stories",
          "stories",
          "stories",
          "stories",
          "stories",
          "stories",
          "stories",
          "stories",
          "stories",
          "stories",
          "stories",
          "stories",
          "stories",
          "stories",
          "stories",
          "stories",
          "stories",
          "stories",
          "stories",
          "stories",
          "stories",
          "stories",
          "stories",
          "stories",
          "stories",
          "stories",
          "stories",
          "stories",
          "stories",
          "stories",
          "stories",
          "stories",
          "stories",
          "stories",
          "stories",
          "stories",
          "stories",
          "stories",
          "stories",
          "stories",
          "stories",
          "stories",
          "stories",
          "stories",
          "stories",
          "stories",
          "stories",
          "stories",
          "stories",
          "stories",
          "stories",
          "stories",
          "stories",
          "stories",
          "stories",
          "stories",
          "stories",
          "stories",
          "stories",
          "stories",
          "stories",
          "stories",
          "stories",
          "stories",
          "stories",
          "stories",
          "stories",
          "stories",
          "stories",
          "stories",
          "stories",
          "stories",
          "stories",
          "stories",
          "stories",
          "stories",
          "stories",
          "stories",
          "stories",
          "stories",
          "stories",
          "stories",
          "stories",
          "stories",
          "stories",
          "stories",
          "stories",
          "stories",
          "stories",
          "stories",
          "stories",
          "stories",
          "stories",
          "stories",
          "stories",
          "stories",
          "stories",
          "stories",
          "stories",
          "stories",
          "stories",
          "stories",
          "stories",
          "stories",
          "stories",
          "stories",
          "stories",
          "stories",
          "stories",
          "stories",
          "stories",
          "stories",
          "stories",
          "stories",
          "stories",
          "stories",
          "stories",
          "stories",
          "stories",
          "stories",
          "stories",
          "stories",
          "stories",
          "stories",
          "stories",
          "stories",
          "stories",
          "stories",
          "stories",
          "stories",
          "stories",
          "stories",
          "stories",
          "stories"
         ],
         "x0": " ",
         "xaxis": "x",
         "y": {
          "bdata": "AwQCAgIBBAICBAICAgICAgIEAgICAQECAgIEAQICBAQCAgIEAwQEBAIEBAQEAwQEAgEEBAQEAgICBAQEAgECAwECAQEBAgIEBAQCAgMDAQMCAgEEAgMDAQECAgEEAQQDAQEDAwEDBAMBBAEDAwIBAwIBAQEBAgEBAQIBAgQBAQMDAwEEAwMBBAICAwEEAgIDAgQBAgMBAgICAgIBAQIBAQQDAgECAQEBAgIBAQIBAgIBAQECAQICAQICAgECAQICAQEBAgECAgICAgECAQEBAgMBAgECAQEDAQIBAgQCAQIBAQQBAgICAQIBAgICAgICAgECAgICAQQBAgMCAQICAQIBAgECAgECAgIBAgICAwIBAgIBAQECAQIBAgIBAgECAgECAgIBAgICAgEBAwIDAQECAgICAgEBAQICAQICAQMCAgEBAgIBAgICAgECAgEBAQECAgIBAgEBAgICAQICAQEDAQEBAgEBAQEBAQIBAQEBAQECAgIBAgICAwEBAQICAQEBAgICAgICAQECAQECAQECAQECAQEDAQEBAwICAQIBAQIDAgEBAQIBAQIBAgECAQICAQIBAQECAgEBAgEBAQECAgECAQIBAQECAQEBAgECAQICAQEBAgIBAgICAQICAgECAgEBAQIDAgIBAgEBAgEBAgIBAQEBAQIBAQECAQECAgICAQEBAgEBAgIBAQEBAQIBAQECAgECAgEBAQEBAQI=",
          "dtype": "i1"
         },
         "y0": " ",
         "yaxis": "y"
        },
        {
         "alignmentgroup": "True",
         "hovertemplate": "Feature=%{x}<br>Value=%{y}<extra></extra>",
         "legendgroup": "parking",
         "marker": {
          "color": "rgb(158, 185, 243)"
         },
         "name": "parking",
         "notched": false,
         "offsetgroup": "parking",
         "orientation": "v",
         "showlegend": true,
         "type": "box",
         "x": [
          "parking",
          "parking",
          "parking",
          "parking",
          "parking",
          "parking",
          "parking",
          "parking",
          "parking",
          "parking",
          "parking",
          "parking",
          "parking",
          "parking",
          "parking",
          "parking",
          "parking",
          "parking",
          "parking",
          "parking",
          "parking",
          "parking",
          "parking",
          "parking",
          "parking",
          "parking",
          "parking",
          "parking",
          "parking",
          "parking",
          "parking",
          "parking",
          "parking",
          "parking",
          "parking",
          "parking",
          "parking",
          "parking",
          "parking",
          "parking",
          "parking",
          "parking",
          "parking",
          "parking",
          "parking",
          "parking",
          "parking",
          "parking",
          "parking",
          "parking",
          "parking",
          "parking",
          "parking",
          "parking",
          "parking",
          "parking",
          "parking",
          "parking",
          "parking",
          "parking",
          "parking",
          "parking",
          "parking",
          "parking",
          "parking",
          "parking",
          "parking",
          "parking",
          "parking",
          "parking",
          "parking",
          "parking",
          "parking",
          "parking",
          "parking",
          "parking",
          "parking",
          "parking",
          "parking",
          "parking",
          "parking",
          "parking",
          "parking",
          "parking",
          "parking",
          "parking",
          "parking",
          "parking",
          "parking",
          "parking",
          "parking",
          "parking",
          "parking",
          "parking",
          "parking",
          "parking",
          "parking",
          "parking",
          "parking",
          "parking",
          "parking",
          "parking",
          "parking",
          "parking",
          "parking",
          "parking",
          "parking",
          "parking",
          "parking",
          "parking",
          "parking",
          "parking",
          "parking",
          "parking",
          "parking",
          "parking",
          "parking",
          "parking",
          "parking",
          "parking",
          "parking",
          "parking",
          "parking",
          "parking",
          "parking",
          "parking",
          "parking",
          "parking",
          "parking",
          "parking",
          "parking",
          "parking",
          "parking",
          "parking",
          "parking",
          "parking",
          "parking",
          "parking",
          "parking",
          "parking",
          "parking",
          "parking",
          "parking",
          "parking",
          "parking",
          "parking",
          "parking",
          "parking",
          "parking",
          "parking",
          "parking",
          "parking",
          "parking",
          "parking",
          "parking",
          "parking",
          "parking",
          "parking",
          "parking",
          "parking",
          "parking",
          "parking",
          "parking",
          "parking",
          "parking",
          "parking",
          "parking",
          "parking",
          "parking",
          "parking",
          "parking",
          "parking",
          "parking",
          "parking",
          "parking",
          "parking",
          "parking",
          "parking",
          "parking",
          "parking",
          "parking",
          "parking",
          "parking",
          "parking",
          "parking",
          "parking",
          "parking",
          "parking",
          "parking",
          "parking",
          "parking",
          "parking",
          "parking",
          "parking",
          "parking",
          "parking",
          "parking",
          "parking",
          "parking",
          "parking",
          "parking",
          "parking",
          "parking",
          "parking",
          "parking",
          "parking",
          "parking",
          "parking",
          "parking",
          "parking",
          "parking",
          "parking",
          "parking",
          "parking",
          "parking",
          "parking",
          "parking",
          "parking",
          "parking",
          "parking",
          "parking",
          "parking",
          "parking",
          "parking",
          "parking",
          "parking",
          "parking",
          "parking",
          "parking",
          "parking",
          "parking",
          "parking",
          "parking",
          "parking",
          "parking",
          "parking",
          "parking",
          "parking",
          "parking",
          "parking",
          "parking",
          "parking",
          "parking",
          "parking",
          "parking",
          "parking",
          "parking",
          "parking",
          "parking",
          "parking",
          "parking",
          "parking",
          "parking",
          "parking",
          "parking",
          "parking",
          "parking",
          "parking",
          "parking",
          "parking",
          "parking",
          "parking",
          "parking",
          "parking",
          "parking",
          "parking",
          "parking",
          "parking",
          "parking",
          "parking",
          "parking",
          "parking",
          "parking",
          "parking",
          "parking",
          "parking",
          "parking",
          "parking",
          "parking",
          "parking",
          "parking",
          "parking",
          "parking",
          "parking",
          "parking",
          "parking",
          "parking",
          "parking",
          "parking",
          "parking",
          "parking",
          "parking",
          "parking",
          "parking",
          "parking",
          "parking",
          "parking",
          "parking",
          "parking",
          "parking",
          "parking",
          "parking",
          "parking",
          "parking",
          "parking",
          "parking",
          "parking",
          "parking",
          "parking",
          "parking",
          "parking",
          "parking",
          "parking",
          "parking",
          "parking",
          "parking",
          "parking",
          "parking",
          "parking",
          "parking",
          "parking",
          "parking",
          "parking",
          "parking",
          "parking",
          "parking",
          "parking",
          "parking",
          "parking",
          "parking",
          "parking",
          "parking",
          "parking",
          "parking",
          "parking",
          "parking",
          "parking",
          "parking",
          "parking",
          "parking",
          "parking",
          "parking",
          "parking",
          "parking",
          "parking",
          "parking",
          "parking",
          "parking",
          "parking",
          "parking",
          "parking",
          "parking",
          "parking",
          "parking",
          "parking",
          "parking",
          "parking",
          "parking",
          "parking",
          "parking",
          "parking",
          "parking",
          "parking",
          "parking",
          "parking",
          "parking",
          "parking",
          "parking",
          "parking",
          "parking",
          "parking",
          "parking",
          "parking",
          "parking",
          "parking",
          "parking",
          "parking",
          "parking",
          "parking",
          "parking",
          "parking",
          "parking",
          "parking",
          "parking",
          "parking",
          "parking",
          "parking",
          "parking",
          "parking",
          "parking",
          "parking",
          "parking",
          "parking",
          "parking",
          "parking",
          "parking",
          "parking",
          "parking",
          "parking",
          "parking",
          "parking",
          "parking",
          "parking",
          "parking",
          "parking",
          "parking",
          "parking",
          "parking",
          "parking",
          "parking",
          "parking",
          "parking",
          "parking",
          "parking",
          "parking",
          "parking",
          "parking",
          "parking",
          "parking",
          "parking",
          "parking",
          "parking",
          "parking",
          "parking",
          "parking",
          "parking",
          "parking",
          "parking",
          "parking",
          "parking",
          "parking",
          "parking",
          "parking",
          "parking",
          "parking",
          "parking",
          "parking",
          "parking",
          "parking",
          "parking",
          "parking",
          "parking",
          "parking",
          "parking",
          "parking",
          "parking",
          "parking",
          "parking",
          "parking",
          "parking",
          "parking",
          "parking",
          "parking",
          "parking",
          "parking",
          "parking",
          "parking",
          "parking",
          "parking",
          "parking",
          "parking",
          "parking",
          "parking",
          "parking",
          "parking",
          "parking",
          "parking",
          "parking",
          "parking",
          "parking",
          "parking",
          "parking",
          "parking",
          "parking",
          "parking",
          "parking",
          "parking",
          "parking",
          "parking",
          "parking",
          "parking",
          "parking",
          "parking",
          "parking",
          "parking",
          "parking",
          "parking",
          "parking",
          "parking",
          "parking",
          "parking",
          "parking",
          "parking",
          "parking",
          "parking",
          "parking",
          "parking",
          "parking",
          "parking",
          "parking",
          "parking",
          "parking",
          "parking",
          "parking",
          "parking",
          "parking",
          "parking",
          "parking",
          "parking",
          "parking",
          "parking",
          "parking",
          "parking",
          "parking",
          "parking",
          "parking",
          "parking",
          "parking",
          "parking",
          "parking",
          "parking",
          "parking",
          "parking",
          "parking",
          "parking",
          "parking",
          "parking",
          "parking",
          "parking",
          "parking",
          "parking",
          "parking",
          "parking",
          "parking",
          "parking",
          "parking",
          "parking",
          "parking",
          "parking",
          "parking",
          "parking",
          "parking",
          "parking",
          "parking",
          "parking"
         ],
         "x0": " ",
         "xaxis": "x",
         "y": {
          "bdata": "AgMCAwICAgACAQICAQIAAgECAgECAgEBAgIAAQIBAgIBAQECAQICAQAAAgIBAAEDAQABAQECAQEBAQEBAQEBAgEBAQIBAgAAAAABAAAAAgABAQEAAgAAAgICAAIAAwECAQEAAAABAQACAAAAAQECAgACAgIAAAACAgABAAECAgABAgAAAAACAAIBAAIAAQEAAQABAQAAAAIAAAICAAECAAAAAAABAAICAAAAAQIAAQICAAICAgEAAQAAAAAAAAIAAAAAAgABAAEAAAEAAAIAAAAAAgICAAAAAgIAAAIAAgECAwABAgEAAAAAAgEAAAABAQIAAAACAAMAAAABAAACAQIAAQEBAAAAAAACAQAAAQACAgAAAQECAAACAAABAAAAAAIAAAABAAABAAIDAAABAAMBAQIBAAABAAABAAECAAICAgEDAAAAAQAAAAMAAAECAgAAAAACAAAAAAAAAAABAAIAAQIBAQABAAAAAAAAAAAAAAIAAAAAAAIAAAIAAAACAAACAAAAAAAAAAABAQEBAQEDAAAAAAEAAAIAAAAAAAECAAIAAAAAAAACAAABAAAAAAEAAAABAAAAAAEBAAABAAIAAAACAQAAAAAAAAEAAAABAAACAAAAAAMAAQABAAEAAQAAAAAAAAAAAQEBAQAAAQAAAAAAAAEAAAAAAAABAAAAAAAAAQEAAAAAAAAAAAAAAAAAAAAAAAEAAAABAgAAAAA=",
          "dtype": "i1"
         },
         "y0": " ",
         "yaxis": "y"
        }
       ],
       "layout": {
        "boxmode": "overlay",
        "legend": {
         "title": {
          "text": "Feature"
         },
         "tracegroupgap": 0
        },
        "showlegend": false,
        "template": {
         "data": {
          "bar": [
           {
            "error_x": {
             "color": "#2a3f5f"
            },
            "error_y": {
             "color": "#2a3f5f"
            },
            "marker": {
             "line": {
              "color": "white",
              "width": 0.5
             },
             "pattern": {
              "fillmode": "overlay",
              "size": 10,
              "solidity": 0.2
             }
            },
            "type": "bar"
           }
          ],
          "barpolar": [
           {
            "marker": {
             "line": {
              "color": "white",
              "width": 0.5
             },
             "pattern": {
              "fillmode": "overlay",
              "size": 10,
              "solidity": 0.2
             }
            },
            "type": "barpolar"
           }
          ],
          "carpet": [
           {
            "aaxis": {
             "endlinecolor": "#2a3f5f",
             "gridcolor": "#C8D4E3",
             "linecolor": "#C8D4E3",
             "minorgridcolor": "#C8D4E3",
             "startlinecolor": "#2a3f5f"
            },
            "baxis": {
             "endlinecolor": "#2a3f5f",
             "gridcolor": "#C8D4E3",
             "linecolor": "#C8D4E3",
             "minorgridcolor": "#C8D4E3",
             "startlinecolor": "#2a3f5f"
            },
            "type": "carpet"
           }
          ],
          "choropleth": [
           {
            "colorbar": {
             "outlinewidth": 0,
             "ticks": ""
            },
            "type": "choropleth"
           }
          ],
          "contour": [
           {
            "colorbar": {
             "outlinewidth": 0,
             "ticks": ""
            },
            "colorscale": [
             [
              0,
              "#0d0887"
             ],
             [
              0.1111111111111111,
              "#46039f"
             ],
             [
              0.2222222222222222,
              "#7201a8"
             ],
             [
              0.3333333333333333,
              "#9c179e"
             ],
             [
              0.4444444444444444,
              "#bd3786"
             ],
             [
              0.5555555555555556,
              "#d8576b"
             ],
             [
              0.6666666666666666,
              "#ed7953"
             ],
             [
              0.7777777777777778,
              "#fb9f3a"
             ],
             [
              0.8888888888888888,
              "#fdca26"
             ],
             [
              1,
              "#f0f921"
             ]
            ],
            "type": "contour"
           }
          ],
          "contourcarpet": [
           {
            "colorbar": {
             "outlinewidth": 0,
             "ticks": ""
            },
            "type": "contourcarpet"
           }
          ],
          "heatmap": [
           {
            "colorbar": {
             "outlinewidth": 0,
             "ticks": ""
            },
            "colorscale": [
             [
              0,
              "#0d0887"
             ],
             [
              0.1111111111111111,
              "#46039f"
             ],
             [
              0.2222222222222222,
              "#7201a8"
             ],
             [
              0.3333333333333333,
              "#9c179e"
             ],
             [
              0.4444444444444444,
              "#bd3786"
             ],
             [
              0.5555555555555556,
              "#d8576b"
             ],
             [
              0.6666666666666666,
              "#ed7953"
             ],
             [
              0.7777777777777778,
              "#fb9f3a"
             ],
             [
              0.8888888888888888,
              "#fdca26"
             ],
             [
              1,
              "#f0f921"
             ]
            ],
            "type": "heatmap"
           }
          ],
          "histogram": [
           {
            "marker": {
             "pattern": {
              "fillmode": "overlay",
              "size": 10,
              "solidity": 0.2
             }
            },
            "type": "histogram"
           }
          ],
          "histogram2d": [
           {
            "colorbar": {
             "outlinewidth": 0,
             "ticks": ""
            },
            "colorscale": [
             [
              0,
              "#0d0887"
             ],
             [
              0.1111111111111111,
              "#46039f"
             ],
             [
              0.2222222222222222,
              "#7201a8"
             ],
             [
              0.3333333333333333,
              "#9c179e"
             ],
             [
              0.4444444444444444,
              "#bd3786"
             ],
             [
              0.5555555555555556,
              "#d8576b"
             ],
             [
              0.6666666666666666,
              "#ed7953"
             ],
             [
              0.7777777777777778,
              "#fb9f3a"
             ],
             [
              0.8888888888888888,
              "#fdca26"
             ],
             [
              1,
              "#f0f921"
             ]
            ],
            "type": "histogram2d"
           }
          ],
          "histogram2dcontour": [
           {
            "colorbar": {
             "outlinewidth": 0,
             "ticks": ""
            },
            "colorscale": [
             [
              0,
              "#0d0887"
             ],
             [
              0.1111111111111111,
              "#46039f"
             ],
             [
              0.2222222222222222,
              "#7201a8"
             ],
             [
              0.3333333333333333,
              "#9c179e"
             ],
             [
              0.4444444444444444,
              "#bd3786"
             ],
             [
              0.5555555555555556,
              "#d8576b"
             ],
             [
              0.6666666666666666,
              "#ed7953"
             ],
             [
              0.7777777777777778,
              "#fb9f3a"
             ],
             [
              0.8888888888888888,
              "#fdca26"
             ],
             [
              1,
              "#f0f921"
             ]
            ],
            "type": "histogram2dcontour"
           }
          ],
          "mesh3d": [
           {
            "colorbar": {
             "outlinewidth": 0,
             "ticks": ""
            },
            "type": "mesh3d"
           }
          ],
          "parcoords": [
           {
            "line": {
             "colorbar": {
              "outlinewidth": 0,
              "ticks": ""
             }
            },
            "type": "parcoords"
           }
          ],
          "pie": [
           {
            "automargin": true,
            "type": "pie"
           }
          ],
          "scatter": [
           {
            "fillpattern": {
             "fillmode": "overlay",
             "size": 10,
             "solidity": 0.2
            },
            "type": "scatter"
           }
          ],
          "scatter3d": [
           {
            "line": {
             "colorbar": {
              "outlinewidth": 0,
              "ticks": ""
             }
            },
            "marker": {
             "colorbar": {
              "outlinewidth": 0,
              "ticks": ""
             }
            },
            "type": "scatter3d"
           }
          ],
          "scattercarpet": [
           {
            "marker": {
             "colorbar": {
              "outlinewidth": 0,
              "ticks": ""
             }
            },
            "type": "scattercarpet"
           }
          ],
          "scattergeo": [
           {
            "marker": {
             "colorbar": {
              "outlinewidth": 0,
              "ticks": ""
             }
            },
            "type": "scattergeo"
           }
          ],
          "scattergl": [
           {
            "marker": {
             "colorbar": {
              "outlinewidth": 0,
              "ticks": ""
             }
            },
            "type": "scattergl"
           }
          ],
          "scattermap": [
           {
            "marker": {
             "colorbar": {
              "outlinewidth": 0,
              "ticks": ""
             }
            },
            "type": "scattermap"
           }
          ],
          "scattermapbox": [
           {
            "marker": {
             "colorbar": {
              "outlinewidth": 0,
              "ticks": ""
             }
            },
            "type": "scattermapbox"
           }
          ],
          "scatterpolar": [
           {
            "marker": {
             "colorbar": {
              "outlinewidth": 0,
              "ticks": ""
             }
            },
            "type": "scatterpolar"
           }
          ],
          "scatterpolargl": [
           {
            "marker": {
             "colorbar": {
              "outlinewidth": 0,
              "ticks": ""
             }
            },
            "type": "scatterpolargl"
           }
          ],
          "scatterternary": [
           {
            "marker": {
             "colorbar": {
              "outlinewidth": 0,
              "ticks": ""
             }
            },
            "type": "scatterternary"
           }
          ],
          "surface": [
           {
            "colorbar": {
             "outlinewidth": 0,
             "ticks": ""
            },
            "colorscale": [
             [
              0,
              "#0d0887"
             ],
             [
              0.1111111111111111,
              "#46039f"
             ],
             [
              0.2222222222222222,
              "#7201a8"
             ],
             [
              0.3333333333333333,
              "#9c179e"
             ],
             [
              0.4444444444444444,
              "#bd3786"
             ],
             [
              0.5555555555555556,
              "#d8576b"
             ],
             [
              0.6666666666666666,
              "#ed7953"
             ],
             [
              0.7777777777777778,
              "#fb9f3a"
             ],
             [
              0.8888888888888888,
              "#fdca26"
             ],
             [
              1,
              "#f0f921"
             ]
            ],
            "type": "surface"
           }
          ],
          "table": [
           {
            "cells": {
             "fill": {
              "color": "#EBF0F8"
             },
             "line": {
              "color": "white"
             }
            },
            "header": {
             "fill": {
              "color": "#C8D4E3"
             },
             "line": {
              "color": "white"
             }
            },
            "type": "table"
           }
          ]
         },
         "layout": {
          "annotationdefaults": {
           "arrowcolor": "#2a3f5f",
           "arrowhead": 0,
           "arrowwidth": 1
          },
          "autotypenumbers": "strict",
          "coloraxis": {
           "colorbar": {
            "outlinewidth": 0,
            "ticks": ""
           }
          },
          "colorscale": {
           "diverging": [
            [
             0,
             "#8e0152"
            ],
            [
             0.1,
             "#c51b7d"
            ],
            [
             0.2,
             "#de77ae"
            ],
            [
             0.3,
             "#f1b6da"
            ],
            [
             0.4,
             "#fde0ef"
            ],
            [
             0.5,
             "#f7f7f7"
            ],
            [
             0.6,
             "#e6f5d0"
            ],
            [
             0.7,
             "#b8e186"
            ],
            [
             0.8,
             "#7fbc41"
            ],
            [
             0.9,
             "#4d9221"
            ],
            [
             1,
             "#276419"
            ]
           ],
           "sequential": [
            [
             0,
             "#0d0887"
            ],
            [
             0.1111111111111111,
             "#46039f"
            ],
            [
             0.2222222222222222,
             "#7201a8"
            ],
            [
             0.3333333333333333,
             "#9c179e"
            ],
            [
             0.4444444444444444,
             "#bd3786"
            ],
            [
             0.5555555555555556,
             "#d8576b"
            ],
            [
             0.6666666666666666,
             "#ed7953"
            ],
            [
             0.7777777777777778,
             "#fb9f3a"
            ],
            [
             0.8888888888888888,
             "#fdca26"
            ],
            [
             1,
             "#f0f921"
            ]
           ],
           "sequentialminus": [
            [
             0,
             "#0d0887"
            ],
            [
             0.1111111111111111,
             "#46039f"
            ],
            [
             0.2222222222222222,
             "#7201a8"
            ],
            [
             0.3333333333333333,
             "#9c179e"
            ],
            [
             0.4444444444444444,
             "#bd3786"
            ],
            [
             0.5555555555555556,
             "#d8576b"
            ],
            [
             0.6666666666666666,
             "#ed7953"
            ],
            [
             0.7777777777777778,
             "#fb9f3a"
            ],
            [
             0.8888888888888888,
             "#fdca26"
            ],
            [
             1,
             "#f0f921"
            ]
           ]
          },
          "colorway": [
           "#636efa",
           "#EF553B",
           "#00cc96",
           "#ab63fa",
           "#FFA15A",
           "#19d3f3",
           "#FF6692",
           "#B6E880",
           "#FF97FF",
           "#FECB52"
          ],
          "font": {
           "color": "#2a3f5f"
          },
          "geo": {
           "bgcolor": "white",
           "lakecolor": "white",
           "landcolor": "white",
           "showlakes": true,
           "showland": true,
           "subunitcolor": "#C8D4E3"
          },
          "hoverlabel": {
           "align": "left"
          },
          "hovermode": "closest",
          "mapbox": {
           "style": "light"
          },
          "paper_bgcolor": "white",
          "plot_bgcolor": "white",
          "polar": {
           "angularaxis": {
            "gridcolor": "#EBF0F8",
            "linecolor": "#EBF0F8",
            "ticks": ""
           },
           "bgcolor": "white",
           "radialaxis": {
            "gridcolor": "#EBF0F8",
            "linecolor": "#EBF0F8",
            "ticks": ""
           }
          },
          "scene": {
           "xaxis": {
            "backgroundcolor": "white",
            "gridcolor": "#DFE8F3",
            "gridwidth": 2,
            "linecolor": "#EBF0F8",
            "showbackground": true,
            "ticks": "",
            "zerolinecolor": "#EBF0F8"
           },
           "yaxis": {
            "backgroundcolor": "white",
            "gridcolor": "#DFE8F3",
            "gridwidth": 2,
            "linecolor": "#EBF0F8",
            "showbackground": true,
            "ticks": "",
            "zerolinecolor": "#EBF0F8"
           },
           "zaxis": {
            "backgroundcolor": "white",
            "gridcolor": "#DFE8F3",
            "gridwidth": 2,
            "linecolor": "#EBF0F8",
            "showbackground": true,
            "ticks": "",
            "zerolinecolor": "#EBF0F8"
           }
          },
          "shapedefaults": {
           "line": {
            "color": "#2a3f5f"
           }
          },
          "ternary": {
           "aaxis": {
            "gridcolor": "#DFE8F3",
            "linecolor": "#A2B1C6",
            "ticks": ""
           },
           "baxis": {
            "gridcolor": "#DFE8F3",
            "linecolor": "#A2B1C6",
            "ticks": ""
           },
           "bgcolor": "white",
           "caxis": {
            "gridcolor": "#DFE8F3",
            "linecolor": "#A2B1C6",
            "ticks": ""
           }
          },
          "title": {
           "x": 0.05
          },
          "xaxis": {
           "automargin": true,
           "gridcolor": "#EBF0F8",
           "linecolor": "#EBF0F8",
           "ticks": "",
           "title": {
            "standoff": 15
           },
           "zerolinecolor": "#EBF0F8",
           "zerolinewidth": 2
          },
          "yaxis": {
           "automargin": true,
           "gridcolor": "#EBF0F8",
           "linecolor": "#EBF0F8",
           "ticks": "",
           "title": {
            "standoff": 15
           },
           "zerolinecolor": "#EBF0F8",
           "zerolinewidth": 2
          }
         }
        },
        "title": {
         "font": {
          "size": 22
         },
         "text": "Box Plot for All Numerical Features"
        },
        "xaxis": {
         "anchor": "y",
         "categoryarray": [
          "price",
          "area",
          "bedrooms",
          "bathrooms",
          "stories",
          "parking"
         ],
         "categoryorder": "array",
         "domain": [
          0,
          1
         ],
         "title": {
          "text": "Feature"
         }
        },
        "yaxis": {
         "anchor": "x",
         "domain": [
          0,
          1
         ],
         "title": {
          "text": "Value"
         }
        }
       }
      },
      "image/png": "[encoded data removed]"
     },
     "metadata": {},
     "output_type": "display_data"
    }
   ],
   "source": [
    "#select numerical columns\n",
    "numerical_cols = df.select_dtypes(include = 'number').columns\n",
    "\n",
    "#Melt the DataFrame to long format for plotly\n",
    "df_melted = df[numerical_cols].melt(var_name='Feature', value_name = 'Value')\n",
    "\n",
    "fig = px.box(df_melted, x ='Feature', y= 'Value', color = 'Feature',\n",
    "             title = \"Box Plot for All Numerical Features\",\n",
    "             color_discrete_sequence = px.colors.qualitative.Pastel)\n",
    "\n",
    "fig.update_layout(title_font_size = 22, xaxis_title = \"Feature\", yaxis_title = \"Value\", template = \"plotly_white\", showlegend = False)\n",
    "fig.show()"
   ]
  },
  {
   "cell_type": "code",
   "execution_count": null,
   "id": "c30a3138-378a-4884-818a-1b24d9ec7a6d",
   "metadata": {},
   "outputs": [],
   "source": []
  }
 ],
 "metadata": {
  "kernelspec": {
   "display_name": "Python 3 (ipykernel)",
   "language": "python",
   "name": "python3"
  },
  "language_info": {
   "codemirror_mode": {
    "name": "ipython",
    "version": 3
   },
   "file_extension": ".py",
   "mimetype": "text/x-python",
   "name": "python",
   "nbconvert_exporter": "python",
   "pygments_lexer": "ipython3",
   "version": "3.9.18"
  }
 },
 "nbformat": 4,
 "nbformat_minor": 5
}
